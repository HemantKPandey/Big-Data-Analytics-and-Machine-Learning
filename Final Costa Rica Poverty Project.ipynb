{
 "cells": [
  {
   "cell_type": "markdown",
   "metadata": {},
   "source": [
    "<font size=\"4\">Costa Rica Poverty Exploration based on the data set provided on [Kaggle](www.kaggle.com)</font>"
   ]
  },
  {
   "cell_type": "markdown",
   "metadata": {},
   "source": [
    "Created on Tue Apr 9, 2019\n",
    "\n",
    "**Project Team on Kaggle for Machine Learning:**\n",
    " * Jatin Solanki\n",
    " * Hemant Pandey\n",
    " * Dinesh Bulusu\n",
    " * Bheemeswara Sarma Kalluri"
   ]
  },
  {
   "cell_type": "markdown",
   "metadata": {},
   "source": [
    "** Here we  are trying to lookup Socio-Economic conditions of Costa Rica and  predict which families or Peoples should be provided help based on their Economical conditions."
    ]
  },
  {
   "cell_type": "markdown",
   "metadata": {},
   "source": [
    "**References:**\n",
    "*     Scaling the data using SciKit: \n",
    "    *         https://www.analyticsvidhya.com/blog/2016/07/practical-guide-data-preprocessing-python-scikit-learn/\n",
    "*     Splitting to Train & Test using SciKit:\n",
    "    *         https://medium.com/@contactsunny/how-to-split-your-dataset-to-train-and-test-datasets-using-scikit-learn-e7cf6eb5e0d\n",
    "*     Cross Validation:\n",
    "    *         https://scikit-learn.org/stable/modules/cross_validation.html\n",
    "*     K Nearest Neighbors\n",
    "    *         https://www.analyticsvidhya.com/blog/2018/03/introduction-k-neighbours-algorithm-clustering/\n",
    "*     How to get started with Machine Learning\n",
    "     *        http://www.freecodecamp.org\n",
    "*     Feature Engineering\n",
    "     *     https://www.kaggle.com/willkoehrsen/a-complete-introduction-and-walkthrough\n",
    "*     Value Error\n",
    "     *     https://datascience.stackexchange.com/questions/11928/valueerror-input-contains-nan-infinity-or-a-value-too-large-for-dtypefloat32\n",
    "*     Random Forest: Hyperpameter Tuning\n",
    "     *     https://towardsdatascience.com/random-forest-in-python-24d0893d51c0\n",
    "     *     https://towardsdatascience.com/hyperparameter-tuning-the-random-forest-in-python-using-scikit-learn-28d2aa77dd74"
   ]
  },
  {
   "cell_type": "markdown",
   "metadata": {},
   "source": [
    "**Tips:**\n",
    "*     On Kaggle to hide the code: \n",
    "    * In the kernel editor, there is an option in the top right of every code cell - to hide input or output.. \n",
    "*     Use Markdown for formatting on Kaggle\n",
    "    * URL: https://www.markdowntutorial.com/"
   ]
  },
  {
   "cell_type": "markdown",
   "metadata": {},
   "source": [
    "**Objectives:**\n",
    "1. Import Required libraries    \n",
    "1. Standard Scaling (numeric data / Data Preparation)\n",
    "1. Visualization\n",
    "1. PCA (to reduce number of columns)\n",
    "1. Pipeline\n",
    "1. Use PCA to reduce number of columns\n",
    "1. Apply following modeling techniques:\n",
    "    * RandomForest (Use cross-validation and Bayes Optimization for values of Hyper Parameters)\n",
    "    * XGBoost (Use cross-validation and Bayes Optimization for values of Hyper Parameters)\n",
    "    *      (generally the Best Model observed on Kaggle)\n",
    "    * LightGBM (Use cross-validation and Bayes Optimization for values of Hyper Parameters)\n",
    "1. Summary Observations"
   ]
  },
  {
   "cell_type": "markdown",
   "metadata": {},
   "source": [
    "**1. Import Required libraries**\n",
    "\n",
    "* **Numpy** - The famous numerical analysis library. It provides support from computing the median of data distribution to processing multidimensional arrays.\n",
    "* **Pandas** - Used for processing CSV files. This will also process tables and see statistics.\n",
    "* **Matplotlib** - Used for visualizations of data in pandas dataframes. Image is better than 100 words.\n",
    "* **Seaborn** - Another visualization tool tjhat is more focused on statistical visualizations such as histograms,pie charts, curves etc.\n",
    "* **SciKit-Learn** - This is the final boss of Machine Learning with Python. All things we need from algorithms to improvements."
   ]
  },
  {
   "cell_type": "code",
   "execution_count": null,
   "metadata": {},
   "outputs": [],
   "source": [
    "%reset -f"
   ]
  },
  {
   "cell_type": "code",
   "execution_count": null,
   "metadata": {},
   "outputs": [],
   "source": [
    "import warnings\n",
    "warnings.filterwarnings(\"ignore\")"
   ]
  },
  {
   "cell_type": "code",
   "execution_count": null,
   "metadata": {
    "_cell_guid": "b1076dfc-b9ad-4769-8c92-a6c4dae69d19",
    "_uuid": "8f2839f25d086af736a60e9eeb907d3b93b6e0e5"
   },
   "outputs": [],
   "source": [
    "# 1.0 Importing Basic Libraries.\n",
    "# 1.1 Load pandas, numpy, matplotlib, jason, Encoder, os & time\n",
    "import numpy as np                     # linear algebra\n",
    "import pandas as pd                    # data processing, CSV file I/O (e.g. pd.read_csv)\n",
    "import matplotlib.pyplot as plt\n",
    "%matplotlib inline\n",
    "import json \n",
    "from sklearn.preprocessing import LabelEncoder,OrdinalEncoder\n",
    "# Input data files are available in the \"../input/\" directory.\n",
    "# For example, running this (by clicking run or pressing Shift+Enter) will list the files in the input directory\n",
    "import os\n",
    "import time\n",
    "print(os.listdir(\"../input\"))\n",
    "# Any results you write to the current directory are saved as output."
   ]
  },
  {
   "cell_type": "code",
   "execution_count": null,
   "metadata": {},
   "outputs": [],
   "source": [
    "# 1.2 Image manipulation\n",
    "from skimage.io import imshow, imsave"
   ]
  },
  {
   "cell_type": "code",
   "execution_count": null,
   "metadata": {},
   "outputs": [],
   "source": [
    "# 1.3 Libraries for Scaling\n",
    "from sklearn.preprocessing import StandardScaler\n",
    "from sklearn.preprocessing import scale"
   ]
  },
  {
   "cell_type": "code",
   "execution_count": null,
   "metadata": {},
   "outputs": [],
   "source": [
    "# 1.4 Libraries for splitting.\n",
    "from sklearn.model_selection import train_test_split"
   ]
  },
  {
   "cell_type": "code",
   "execution_count": null,
   "metadata": {},
   "outputs": [],
   "source": [
    "# 1.4.1 Return stratified folds. The folds are made by preserving the percentage of samples for each class.\n",
    "from sklearn.model_selection import StratifiedKFold\n",
    "# Libraries for AOC(Area Under theCurve) & ROC (Receiver Operating Characteristic Curve)\n",
    "from sklearn.metrics import auc, roc_curve\n",
    "# Libraries for Modelling\n",
    "from sklearn.neighbors import KNeighborsClassifier\n",
    "from sklearn.ensemble import ExtraTreesClassifier\n",
    "from sklearn.ensemble import GradientBoostingClassifier as gbm\n",
    "from sklearn.tree import  DecisionTreeClassifier as dt\n",
    "from xgboost.sklearn import XGBClassifier\n",
    "from sklearn.ensemble import RandomForestClassifier as rf\n",
    "from sklearn.ensemble import RandomForestRegressor"
   ]
  },
  {
   "cell_type": "code",
   "execution_count": null,
   "metadata": {},
   "outputs": [],
   "source": [
    "# 1.4.2 Visualization Plotly\n",
    "#import plotly.plotly as py\n",
    "#import plotly.graph_objs as go\n",
    "import seaborn as sns"
   ]
  },
  {
   "cell_type": "code",
   "execution_count": null,
   "metadata": {},
   "outputs": [],
   "source": [
    "# 1.5 ML - we will classify using lightgbm\n",
    "import lightgbm as lgb"
   ]
  },
  {
   "cell_type": "code",
   "execution_count": null,
   "metadata": {},
   "outputs": [],
   "source": [
    "# 1.6 Bayes Optimization -- One method\n",
    "from bayes_opt import BayesianOptimization"
   ]
  },
  {
   "cell_type": "code",
   "execution_count": null,
   "metadata": {},
   "outputs": [],
   "source": [
    "# 1.7 Bayes optimization--IInd method\n",
    "# SKOPT is a parameter-optimisation framewor\n",
    "from skopt import BayesSearchCV"
   ]
  },
  {
   "cell_type": "code",
   "execution_count": null,
   "metadata": {},
   "outputs": [],
   "source": [
    "# Metrics\n",
    "from sklearn.metrics import f1_score\n",
    "from sklearn.metrics import confusion_matrix\n",
    "from sklearn.metrics import accuracy_score"
   ]
  },
  {
   "cell_type": "markdown",
   "metadata": {},
   "source": [
    "### 2. Data Loading and Processing for understanding"
   ]
  },
  {
   "cell_type": "markdown",
   "metadata": {},
   "source": [
    "** 2.1 Load the data**"
   ]
  },
  {
   "cell_type": "markdown",
   "metadata": {},
   "source": [
    "Load data from Train, Test & Sample Submission CSV files."
   ]
  },
  {
   "cell_type": "code",
   "execution_count": null,
   "metadata": {},
   "outputs": [],
   "source": [
    "#os.chdir(\"../input\")\n",
    "#os.listdir()\n",
    "df_train = pd.read_csv(\"../input/train.csv\") \n",
    "df_test =  pd.read_csv(\"../input/test.csv\")\n",
    "df_sample_submission =  pd.read_csv(\"../input/sample_submission.csv\")"
   ]
  },
  {
   "cell_type": "markdown",
   "metadata": {},
   "source": [
    "** 2.2 Check the data**"
   ]
  },
  {
   "cell_type": "code",
   "execution_count": null,
   "metadata": {},
   "outputs": [],
   "source": [
    "print (\"Glimpse / sample of Train Dataset: \")\n",
    "df_train.head()"
   ]
  },
  {
   "cell_type": "markdown",
   "metadata": {},
   "source": [
    "These are the core data fields as described in the data description of df_train:\n",
    "1. Id - a unique identifier for each row.\n",
    "2. Target - the target is an ordinal variable indicating groups of income levels. \n",
    "            1 = extreme poverty 2 = moderate poverty 3 = vulnerable households 4 = non vulnerable households\n",
    "3. idhogar - this is a unique identifier for each household. This can be used to create household-wide features, etc. All rows in a given household will have a matching value for this identifier.\n",
    "4. parentesco1 - indicates if this person is the head of the household."
   ]
  },
  {
   "cell_type": "code",
   "execution_count": null,
   "metadata": {},
   "outputs": [],
   "source": [
    "print (\"Summary of Train Dataset: \",df_train.describe())\n",
    "df_train.head(5)"
   ]
  },
  {
   "cell_type": "code",
   "execution_count": null,
   "metadata": {},
   "outputs": [],
   "source": [
    "target = df_train['Target']\n",
    "target.value_counts()"
   ]
  },
  {
   "cell_type": "code",
   "execution_count": null,
   "metadata": {},
   "outputs": [],
   "source": [
    "print (\"Glimpse / Sample of Test Dataset: \")\n",
    "df_test.head()"
   ]
  },
  {
   "cell_type": "code",
   "execution_count": null,
   "metadata": {},
   "outputs": [],
   "source": [
    "print (\"Summary of Test Dataset: \")\n",
    "df_test.describe()"
   ]
  },
  {
   "cell_type": "code",
   "execution_count": null,
   "metadata": {},
   "outputs": [],
   "source": [
    "print (\"Glimpse of Sample Submission Dataset: \")\n",
    "df_sample_submission.head()"
   ]
  },
  {
   "cell_type": "code",
   "execution_count": null,
   "metadata": {},
   "outputs": [],
   "source": [
    "print (\"Summary of Sample Submission Dataset: \")\n",
    "df_sample_submission.describe()"
   ]
  },
  {
   "cell_type": "markdown",
   "metadata": {},
   "source": [
    "### Visualization"
   ]
  },
  {
   "cell_type": "code",
   "execution_count": null,
   "metadata": {},
   "outputs": [],
   "source": [
    "# 3.1 Target\n",
    "import seaborn as sns\n",
    "sns.countplot(\"Target\", data=df_train)"
   ]
  },
  {
   "cell_type": "code",
   "execution_count": null,
   "metadata": {},
   "outputs": [],
   "source": [
    "sns.countplot(x=\"r4t3\",hue=\"Target\",data=df_train)"
   ]
  },
  {
   "cell_type": "code",
   "execution_count": null,
   "metadata": {},
   "outputs": [],
   "source": [
    "sns.countplot(x=\"v18q\",hue=\"Target\",data=df_train)"
   ]
  },
  {
   "cell_type": "code",
   "execution_count": null,
   "metadata": {},
   "outputs": [],
   "source": [
    "sns.countplot(x=\"tamhog\",hue=\"Target\",data=df_train)"
   ]
  },
  {
   "cell_type": "code",
   "execution_count": null,
   "metadata": {},
   "outputs": [],
   "source": [
    "sns.countplot(x=\"hhsize\",hue=\"Target\",data=df_train)"
   ]
  },
  {
   "cell_type": "code",
   "execution_count": null,
   "metadata": {},
   "outputs": [],
   "source": [
    "sns.countplot(x=\"noelec\",hue=\"Target\",data=df_train)"
   ]
  },
  {
   "cell_type": "code",
   "execution_count": null,
   "metadata": {},
   "outputs": [],
   "source": [
    "from pandas.plotting import scatter_matrix"
   ]
  },
  {
   "cell_type": "code",
   "execution_count": null,
   "metadata": {},
   "outputs": [],
   "source": [
    "scatter_matrix(df_train.select_dtypes('float'), alpha=0.2, figsize=(26, 20), diagonal='kde')\n",
    "plt.show()"
   ]
  },
  {
   "cell_type": "markdown",
   "metadata": {},
   "source": [
    "### finding columns with Null Values"
   ]
  },
  {
   "cell_type": "code",
   "execution_count": null,
   "metadata": {},
   "outputs": [],
   "source": [
    "def missingdata(data):\n",
    "    total = data.isnull().sum().sort_values(ascending = False)\n",
    "    percent = (data.isnull().sum()/ data.isnull().count()*100).sort_values(ascending = False)\n",
    "    ms=pd.concat([total, percent], axis=1, keys=['Total','Percent'])\n",
    "    ms = ms[ms[\"Percent\"] > 0]\n",
    "    f,ax = plt.subplots(figsize=(8,6))\n",
    "    plt.xticks(rotation='90')\n",
    "    fig = sns.barplot(ms.index, ms[\"Percent\"], color=\"green\", alpha=0.8)\n",
    "    plt.xlabel('Features', fontsize=15)\n",
    "    plt.ylabel('Percent of missing values', fontsize=15)\n",
    "    plt.title('Percent missing data by feature', fontsize=15)\n",
    "    return ms"
   ]
  },
  {
   "cell_type": "code",
   "execution_count": null,
   "metadata": {},
   "outputs": [],
   "source": [
    "missingdata(df_train)"
   ]
  },
  {
   "cell_type": "code",
   "execution_count": null,
   "metadata": {},
   "outputs": [],
   "source": [
    "df_train.head(10)"
   ]
  },
  {
   "cell_type": "code",
   "execution_count": null,
   "metadata": {},
   "outputs": [],
   "source": [
    "df_train.dtypes.value_counts() "
   ]
  },
  {
   "cell_type": "markdown",
   "metadata": {},
   "source": [
    "Now check for missing values in df_test data set"
   ]
  },
  {
   "cell_type": "code",
   "execution_count": null,
   "metadata": {},
   "outputs": [],
   "source": [
    "missingdata(df_test)"
   ]
  },
  {
   "cell_type": "code",
   "execution_count": null,
   "metadata": {},
   "outputs": [],
   "source": [
    "df_test.shape"
   ]
  },
  {
   "cell_type": "code",
   "execution_count": null,
   "metadata": {},
   "outputs": [],
   "source": [
    "df_test.dtypes.value_counts() "
   ]
  },
  {
   "cell_type": "code",
   "execution_count": null,
   "metadata": {},
   "outputs": [],
   "source": [
    "df_train.drop(columns = ['rez_esc','v18q1','v2a1','meaneduc', 'SQBmeaned'], inplace = True)"
   ]
  },
  {
   "cell_type": "code",
   "execution_count": null,
   "metadata": {},
   "outputs": [],
   "source": [
    "df_test.drop(columns = ['rez_esc','v18q1','v2a1','meaneduc', 'SQBmeaned'], inplace = True)"
   ]
  },
  {
   "cell_type": "markdown",
   "metadata": {},
   "source": [
    "Dropped that are not required. the columns that are not required.."
   ]
  },
  {
   "cell_type": "markdown",
   "metadata": {},
   "source": [
    "Another option to check for missing values in both test and train data sets"
   ]
  },
  {
   "cell_type": "code",
   "execution_count": null,
   "metadata": {},
   "outputs": [],
   "source": [
    "naData = df_train.isnull().sum().values / df_train.shape[0] *100 \n",
    "df_na = pd.DataFrame(naData, index=df_train.columns, columns=['Count']) \n",
    "df_na = df_na.sort_values(by=['Count'], ascending=False)\n",
    "missing_count = df_na[df_na['Count']>0].shape[0]\n",
    "print('We got', missing_count, 'rows which have missing value in train set.') \n",
    "df_na.head(10) \n",
    "###* We will get 5 rows which comprises of missing values in the train dataset"
   ]
  },
  {
   "cell_type": "code",
   "execution_count": null,
   "metadata": {},
   "outputs": [],
   "source": [
    "naData = df_test.isnull().sum().values / df_test.shape[0] *100 \n",
    "df_na = pd.DataFrame(naData, index=df_test.columns, columns=['Count']) \n",
    "df_na = df_na.sort_values(by=['Count'], ascending=False)\n",
    "missing_count = df_na[df_na['Count']>0].shape[0]\n",
    "print('We got', missing_count, 'rows which have missing value in test set.') \n",
    "df_na.head(10)"
   ]
  },
  {
   "cell_type": "code",
   "execution_count": null,
   "metadata": {},
   "outputs": [],
   "source": [
    "# 2.3 Function to examine any dataset\n",
    "#     ExamineData.__doc__  => Gives help\n",
    "def ExamineData(x):\n",
    "    \"\"\"Prints various data charteristics, given x\n",
    "    \"\"\"\n",
    "    print(\"Data shape:\", x.shape)\n",
    "    print(\"\\nColumns:\", x.columns)\n",
    "    print(\"\\nData types\\n\", x.dtypes)\n",
    "    print(\"\\nDescribe data\\n\", x.describe())\n",
    "    print(\"\\nData\\n\", x.head(2))\n",
    "    print (\"\\nSize of data:\", np.sum(x.memory_usage()))    # Get size of dataframes\n",
    "    print(\"\\nAre there any NULLS\\n\", np.sum(x.isnull()))"
   ]
  },
  {
   "cell_type": "code",
   "execution_count": null,
   "metadata": {},
   "outputs": [],
   "source": [
    "# 2.3.2 Let us understand test data\n",
    "ExamineData(df_train)"
   ]
  },
  {
   "cell_type": "code",
   "execution_count": null,
   "metadata": {},
   "outputs": [],
   "source": [
    "# 2.3.2 Let us understand test data\n",
    "ExamineData(df_test)"
   ]
  },
  {
   "cell_type": "markdown",
   "metadata": {},
   "source": [
    "Handling the missing values in test and train data"
   ]
  },
  {
   "cell_type": "code",
   "execution_count": null,
   "metadata": {},
   "outputs": [],
   "source": [
    "df_train.loc[(df_train['tipovivi1'] == 1), 'v2a1'] = 0\n",
    "df_test.loc[(df_test['tipovivi1'] == 1), 'v2a1'] = 0\n",
    "df_train.loc[((df_train['age'] > 19) | (df_train['age'] < 7))] = 0\n",
    "df_test.loc[((df_test['age'] > 19) | (df_test['age'] < 7))] = 0"
   ]
  },
  {
   "cell_type": "code",
   "execution_count": null,
   "metadata": {},
   "outputs": [],
   "source": [
    "print(\"The Train dataset has {0} rows and {1} columns\".format(df_train.shape[0], df_train.shape[1]))\n",
    "print(\"The Test dataset has {0} rows and {1} columns\".format(df_test.shape[0], df_test.shape[1]))"
   ]
  },
  {
   "cell_type": "code",
   "execution_count": null,
   "metadata": {},
   "outputs": [],
   "source": [
    "# Remove Squared Variables to avoid confusion.\n",
    "df_test = df_test[[x for x in df_test if not x.startswith('SQB')]]\n",
    "df_train = df_train[[x for x in df_train if not x.startswith('SQB')]]\n",
    "df_train = df_train.drop(columns = ['agesq'])\n",
    "df_test = df_test.drop(columns = ['agesq'])\n",
    "df_test.shape, df_train.shape"
   ]
  },
  {
   "cell_type": "code",
   "execution_count": null,
   "metadata": {},
   "outputs": [],
   "source": [
    "print(\"The Train dataset has {0} rows and {1} columns\".format(df_train.shape[0], df_train.shape[1]))\n",
    "print(\"The Test dataset has {0} rows and {1} columns\".format(df_test.shape[0], df_test.shape[1]))"
   ]
  },
  {
   "cell_type": "code",
   "execution_count": null,
   "metadata": {},
   "outputs": [],
   "source": [
    "#Getting list of Columns which can act as Features\n",
    "## list of features to be used\n",
    "features = [c for c in df_train.columns if c not in ['Id', 'Target']]"
   ]
  },
  {
   "cell_type": "code",
   "execution_count": null,
   "metadata": {},
   "outputs": [],
   "source": [
    "import random\n",
    "#Making Seed Locked so that We can avoid different results Occuring when we run The file\n",
    "random.seed (45)"
   ]
  },
  {
   "cell_type": "code",
   "execution_count": null,
   "metadata": {},
   "outputs": [],
   "source": [
    "#Handling data by Label encoding\n",
    "def label_encoding(col):\n",
    "    le = LabelEncoder()\n",
    "    le.fit(list(df_train[col].values) + list(df_test[col].values))\n",
    "    df_train[col] = le.transform(df_train[col].astype(str))\n",
    "    df_test[col] = le.transform(df_test[col].astype(str))\n",
    "\n",
    "num_cols = df_train._get_numeric_data().columns\n",
    "cat_cols = list(set(features) - set(num_cols))\n",
    "for col in cat_cols:\n",
    "    label_encoding(col)\n",
    "    \n",
    "df_train.shape,df_test.shape"
   ]
  },
  {
   "cell_type": "code",
   "execution_count": null,
   "metadata": {},
   "outputs": [],
   "source": [
    "print(\"The Train dataset has {0} rows and {1} columns\".format(df_train.shape[0], df_train.shape[1]))\n",
    "print(\"The Test dataset has {0} rows and {1} columns\".format(df_test.shape[0], df_test.shape[1]))"
   ]
  },
  {
   "cell_type": "markdown",
   "metadata": {},
   "source": [
    "#### Feature Engineering"
   ]
  },
  {
   "cell_type": "code",
   "execution_count": null,
   "metadata": {},
   "outputs": [],
   "source": [
    "# Difference between people living in house and household size\n",
    "df_train['hhsize-diff'] = df_train['tamviv'] - df_train['hhsize']\n",
    "df_test['hhsize-diff'] = df_test['tamviv'] - df_test['hhsize']\n",
    "elec_tr = []\n",
    "elec_ts = []\n",
    "# Assign values in Train data for electricity type\n",
    "for i, row in df_train.iterrows():\n",
    "    if row['noelec'] == 1:\n",
    "        elec_tr.append(0)\n",
    "    elif row['coopele'] == 1:\n",
    "        elec_tr.append(1)\n",
    "    elif row['public'] == 1:\n",
    "        elec_tr.append(2)\n",
    "    elif row['planpri'] == 1:\n",
    "        elec_tr.append(3)\n",
    "    else:\n",
    "        elec_tr.append(np.nan)\n",
    "\n",
    "#Assign Values in df_test data for electricity type\n",
    "for i, row in df_test.iterrows():\n",
    "    if row['noelec'] == 1:\n",
    "        elec_ts.append(0)\n",
    "    elif row['coopele'] == 1:\n",
    "        elec_ts.append(1)\n",
    "    elif row['public'] == 1:\n",
    "        elec_ts.append(2)\n",
    "    elif row['planpri'] == 1:\n",
    "        elec_ts.append(3)\n",
    "    else:\n",
    "        elec_ts.append(np.nan)\n",
    "        \n",
    "# Record the new variable and missing flag\n",
    "df_test['elec'] = elec_ts\n",
    "df_test['elec-missing'] = df_test['elec'].isnull()\n",
    "df_train['elec'] = elec_tr\n",
    "df_train['elec-missing'] = df_train['elec'].isnull()\n",
    "\n",
    "# Wall ordinal variable\n",
    "df_train['walls'] = np.argmax(np.array(df_train[['epared1', 'epared2', 'epared3']]),\n",
    "                           axis = 1)\n",
    "df_test['walls'] = np.argmax(np.array(df_test[['epared1', 'epared2', 'epared3']]),\n",
    "                           axis = 1)\n",
    "# Roof ordinal variable\n",
    "df_train['roof'] = np.argmax(np.array(df_train[['etecho1', 'etecho2', 'etecho3']]),\n",
    "                           axis = 1)\n",
    "df_test['roof'] = np.argmax(np.array(df_test[['etecho1', 'etecho2', 'etecho3']]),\n",
    "                           axis = 1)\n",
    "# Floor ordinal variable\n",
    "df_train['floor'] = np.argmax(np.array(df_train[['eviv1', 'eviv2', 'eviv3']]),\n",
    "                           axis = 1)\n",
    "df_test['floor'] = np.argmax(np.array(df_test[['eviv1', 'eviv2', 'eviv3']]),\n",
    "                           axis = 1)\n",
    "# Create new feature\n",
    "df_train['walls+roof+floor'] = df_train['walls'] + df_train['roof'] + df_train['floor']\n",
    "df_test['walls+roof+floor'] = df_test['walls'] + df_test['roof'] + df_test['floor']\n",
    "# No toilet, no electricity, no floor, no water service, no ceiling\n",
    "df_test['warning'] = 1 * (df_test['sanitario1'] + \n",
    "                         (df_test['elec'] == 0) + \n",
    "                         df_test['pisonotiene'] + \n",
    "                         df_test['abastaguano'] + \n",
    "                         (df_test['cielorazo'] == 0))\n",
    "df_train['warning'] = 1 * (df_train['sanitario1'] + \n",
    "                         (df_train['elec'] == 0) + \n",
    "                         df_train['pisonotiene'] + \n",
    "                         df_train['abastaguano'] + \n",
    "                         (df_train['cielorazo'] == 0))\n",
    "# Owns a refrigerator, computer, tablet, and television\n",
    "df_train['bonus'] = 1 * (df_train['refrig'] + \n",
    "                      df_train['computer'] + \n",
    "                      df_train['television'])\n",
    "df_test['bonus'] = 1 * (df_test['refrig'] + \n",
    "                      df_test['computer'] + \n",
    "                      df_test['television'])\n",
    "# Per capita features\n",
    "df_test['phones-per-capita'] = df_test['qmobilephone'] / df_test['tamviv']\n",
    "df_test['rooms-per-capita'] = df_test['rooms'] / df_test['tamviv']\n",
    "df_test['rent-per-capita'] = df_test['v2a1'] / df_test['tamviv']\n",
    "\n",
    "df_train['phones-per-capita'] = df_train['qmobilephone'] / df_train['tamviv']\n",
    "df_train['rooms-per-capita'] = df_train['rooms'] / df_train['tamviv']\n",
    "df_train['rent-per-capita'] = df_train['v2a1'] / df_train['tamviv']\n",
    "\n",
    "# Create one feature from the `instlevel` columns\n",
    "df_train['inst'] = np.argmax(np.array(df_train[[c for c in df_train if c.startswith('instl')]]), axis = 1)\n",
    "df_test['inst'] = np.argmax(np.array(df_test[[c for c in df_test if c.startswith('instl')]]), axis = 1)\n",
    "\n",
    "df_train['escolari/age'] = df_train['escolari'] / df_train['age']\n",
    "df_train['inst/age'] = df_train['inst'] / df_train['age']\n",
    "df_test['escolari/age'] = df_test['escolari'] / df_test['age']\n",
    "df_test['inst/age'] = df_test['inst'] / df_test['age']\n",
    "\n",
    "print('Train Data shape: ', df_train.shape,'Test Data shape: ',df_test.shape)"
   ]
  },
  {
   "cell_type": "code",
   "execution_count": null,
   "metadata": {},
   "outputs": [],
   "source": [
    "print(\"The Train dataset has {0} rows and {1} columns\".format(df_train.shape[0], df_train.shape[1]))\n",
    "print(\"The Test dataset has {0} rows and {1} columns\".format(df_test.shape[0], df_test.shape[1]))"
   ]
  },
  {
   "cell_type": "markdown",
   "metadata": {},
   "source": [
    "Finding and handling column names with Object Dtypes"
   ]
  },
  {
   "cell_type": "code",
   "execution_count": null,
   "metadata": {},
   "outputs": [],
   "source": [
    "#Finding Object type columns\n",
    "df_train.select_dtypes('object').head()"
   ]
  },
  {
   "cell_type": "code",
   "execution_count": null,
   "metadata": {},
   "outputs": [],
   "source": [
    "# Dropping the Only object type column \"ID\" so that data can be precessed for further Modelling\n",
    "df_train =df_train.drop(columns = ['Id'])"
   ]
  },
  {
   "cell_type": "code",
   "execution_count": null,
   "metadata": {},
   "outputs": [],
   "source": [
    "print(\"The Train dataset has {0} rows and {1} columns\".format(df_train.shape[0], df_train.shape[1]))\n",
    "print(\"The Test dataset has {0} rows and {1} columns\".format(df_test.shape[0], df_test.shape[1]))"
   ]
  },
  {
   "cell_type": "code",
   "execution_count": null,
   "metadata": {},
   "outputs": [],
   "source": [
    "df_train.head(10)"
   ]
  },
  {
   "cell_type": "markdown",
   "metadata": {},
   "source": [
    "Generic Column Transform Function"
   ]
  },
  {
   "cell_type": "code",
   "execution_count": null,
   "metadata": {},
   "outputs": [],
   "source": [
    "# Defining the transformation function using columnTransformer, OneHotEncoder and StandardScaler\n",
    "def transform(categorical_columns,numerical_columns,df):\n",
    "    #  (taskName, objectToPerformTask, columns-upon-which-to-perform)\n",
    "    # One hot encode categorical columns\n",
    "    cat = ('categorical', ohe() , categorical_columns  )\n",
    "    # Scale numerical columns\n",
    "    num = ('numeric', StandardScaler(), numerical_columns)\n",
    "    # Instantiate columnTransformer object to perform task\n",
    "    # It transforms X separately by each transformer and then concatenates results.\n",
    "    col_trans = ct([cat, num])\n",
    "    # Learn data\n",
    "    col_trans.fit(df)\n",
    "    # Now transform df\n",
    "    df_transAndScaled = col_trans.transform(df)\n",
    "    # Return transformed data and also transformation object\n",
    "    return df_transAndScaled, col_trans"
   ]
  },
  {
   "cell_type": "code",
   "execution_count": null,
   "metadata": {},
   "outputs": [],
   "source": [
    "df_train.info()"
   ]
  },
  {
   "cell_type": "code",
   "execution_count": null,
   "metadata": {},
   "outputs": [],
   "source": [
    "df_test.info()"
   ]
  },
  {
   "cell_type": "code",
   "execution_count": null,
   "metadata": {},
   "outputs": [],
   "source": [
    "# Cleaninig Data\n",
    "df_train.replace(0, np.nan)\n",
    "df_test.replace(0,np.nan)\n",
    "#fillna() to replace missing values with the mean value for each column,\n",
    "df_train.fillna(df_train.mean(), inplace=True);\n",
    "print(df_train.isnull().sum());\n",
    "\n",
    "df_train.shape"
   ]
  },
  {
   "cell_type": "code",
   "execution_count": null,
   "metadata": {},
   "outputs": [],
   "source": [
    "df_test.fillna(df_test.mean(), inplace=True);\n",
    "print(df_test.isnull().sum());\n",
    "df_test"
   ]
  },
  {
   "cell_type": "code",
   "execution_count": null,
   "metadata": {},
   "outputs": [],
   "source": [
    "df_train.drop(['idhogar',\"dependency\",\"edjefe\",\"edjefa\"], inplace = True, axis =1)\n",
    "df_test.drop(['idhogar',\"dependency\",\"edjefe\",\"edjefa\"], inplace = True, axis =1)"
   ]
  },
  {
   "cell_type": "markdown",
   "metadata": {},
   "source": [
    "### Principal Component Analysis (PCA) / Karhunen-Loeve Transform (KLT)"
   ]
  },
  {
   "cell_type": "markdown",
   "metadata": {},
   "source": [
    "PCA Principle Component Analysis is used mainly for reducing the dimensionality where we have lot of features and we are undecessive on which features / components to consider in our analysis without impacting our end result.\n",
    "\n",
    "1. Can be used to mitigate theproblem caused by dimensionality.\n",
    "2. The above can be used to compress the data with verey little inormation lost.\n",
    "3. Understanding the structure of the data with hundreds od dimensions can be difficult.\n",
    "\n",
    "PCA is also known as **Karhunen-Loeve Transform (KLT)**, technique used for finding patterns in high dimensional data.  \n",
    "\n",
    "PCA reduces a set of possibly correlated high dimensional variables to a lower dimensional set of linearly uncorrelated synthetic variables called **Principle Components**.\n",
    "\n",
    "PCA can be used to find a set of vectors that span a subsoace that minimizes the sum of the squared errors of the projected data that would retain the greatest proportion of the original datasets's variance.\n",
    "\n",
    "Also PCA is very useful when the variance in a data set is distributed unevenly across the dimensions."
   ]
  },
  {
   "cell_type": "code",
   "execution_count": null,
   "metadata": {},
   "outputs": [],
   "source": [
    "from sklearn.decomposition import PCA"
   ]
  },
  {
   "cell_type": "code",
   "execution_count": null,
   "metadata": {},
   "outputs": [],
   "source": [
    "# Need to run the standerdised data set to perform PCA\n",
    "pca = PCA().fit(df_train)"
   ]
  },
  {
   "cell_type": "markdown",
   "metadata": {},
   "source": [
    "PCA_Summary function provides summary of PCA Analysis"
   ]
  },
  {
   "cell_type": "code",
   "execution_count": null,
   "metadata": {},
   "outputs": [],
   "source": [
    "def pca_summary(pca, standardized_data, out=True):\n",
    "    names = [\"PC\"+str(i) for i in range(1, len(pca.explained_variance_ratio_)+1)]\n",
    "    a = list(np.std(pca.transform(standardized_data), axis=0))\n",
    "    b = list(pca.explained_variance_ratio_)\n",
    "    c = [np.sum(pca.explained_variance_ratio_[:i]) for i in range(1, len(pca.explained_variance_ratio_)+1)]\n",
    "    columns = pd.MultiIndex.from_tuples([(\"sdev\", \"Standard deviation\"), (\"varprop\", \"Proportion of Variance\"), (\"cumprop\", \"Cumulative Proportion\")])\n",
    "    summary = pd.DataFrame(list(zip(a, b, c)), index=names, columns=columns)\n",
    "    \n",
    "    if out:\n",
    "        print(\"Importance of components:\")\n",
    "        display(summary)\n",
    "    return summary"
   ]
  },
  {
   "cell_type": "code",
   "execution_count": null,
   "metadata": {},
   "outputs": [],
   "source": [
    "# Use the standerdised data set to get PCA_Summary\n",
    "summary = pca_summary(pca, df_train)"
   ]
  },
  {
   "cell_type": "markdown",
   "metadata": {},
   "source": [
    "This gives us the standard deviation of each component, and the proportion of variance explained by each component. \n",
    "\n",
    "The standard deviation of the components is stored in a named row called sdev of the output variable made by the pca_summary function and stored in the summary variable:"
   ]
  },
  {
   "cell_type": "code",
   "execution_count": null,
   "metadata": {},
   "outputs": [],
   "source": [
    "# Summary of SD is taken from the above\n",
    "summary.sdev"
   ]
  },
  {
   "cell_type": "markdown",
   "metadata": {},
   "source": [
    "The total variance explained by the components is the sum of the variances of the components:"
   ]
  },
  {
   "cell_type": "code",
   "execution_count": null,
   "metadata": {},
   "outputs": [],
   "source": [
    "np.sum(summary.sdev**2)"
   ]
  },
  {
   "cell_type": "code",
   "execution_count": null,
   "metadata": {},
   "outputs": [],
   "source": [
    "summary.sdev**2"
   ]
  },
  {
   "cell_type": "code",
   "execution_count": null,
   "metadata": {},
   "outputs": [],
   "source": [
    "X = df_train.values"
   ]
  },
  {
   "cell_type": "code",
   "execution_count": null,
   "metadata": {},
   "outputs": [],
   "source": [
    "X"
   ]
  },
  {
   "cell_type": "code",
   "execution_count": null,
   "metadata": {},
   "outputs": [],
   "source": [
    "X = scale(X)"
   ]
  },
  {
   "cell_type": "code",
   "execution_count": null,
   "metadata": {},
   "outputs": [],
   "source": [
    "pca = PCA(n_components =141)"
   ]
  },
  {
   "cell_type": "code",
   "execution_count": null,
   "metadata": {},
   "outputs": [],
   "source": [
    "pca.fit(X)"
   ]
  },
  {
   "cell_type": "code",
   "execution_count": null,
   "metadata": {},
   "outputs": [],
   "source": [
    "var= pca.explained_variance_ratio_"
   ]
  },
  {
   "cell_type": "code",
   "execution_count": null,
   "metadata": {},
   "outputs": [],
   "source": [
    "var1=np.cumsum(np.round(pca.explained_variance_ratio_, decimals=4)*100)"
   ]
  },
  {
   "cell_type": "code",
   "execution_count": null,
   "metadata": {},
   "outputs": [],
   "source": [
    "plt.plot(var1)"
   ]
  },
  {
   "cell_type": "code",
   "execution_count": null,
   "metadata": {},
   "outputs": [],
   "source": [
    "# Here we decide how many principle components are being considered. \n",
    "# Standard thumb rule is is consider all those principle components whoes SD > 1 or at 80 as beyond that we have flat pr no variation.\n",
    "pca = PCA(n_components=80)"
   ]
  },
  {
   "cell_type": "code",
   "execution_count": null,
   "metadata": {},
   "outputs": [],
   "source": [
    "X = pca.fit_transform(X)"
   ]
  },
  {
   "cell_type": "code",
   "execution_count": null,
   "metadata": {},
   "outputs": [],
   "source": [
    "X.shape"
   ]
  },
  {
   "cell_type": "markdown",
   "metadata": {},
   "source": [
    "#### PCA Conclusion"
   ]
  },
  {
   "cell_type": "markdown",
   "metadata": {},
   "source": [
    "Using PCA we have reduced the principle components from 144 to 80 as there is no impact or variation for these 64 components."
   ]
  },
  {
   "cell_type": "markdown",
   "metadata": {},
   "source": [
    "### Split the data"
   ]
  },
  {
   "cell_type": "code",
   "execution_count": null,
   "metadata": {},
   "outputs": [],
   "source": [
    "df_train.head()"
   ]
  },
  {
   "cell_type": "code",
   "execution_count": null,
   "metadata": {},
   "outputs": [],
   "source": [
    "#seprating target and predictors \n",
    "y=df_train[\"Target\"]\n",
    "y.unique()"
   ]
  },
  {
   "cell_type": "code",
   "execution_count": null,
   "metadata": {},
   "outputs": [],
   "source": [
    "df_train.drop(['Target'], inplace = True, axis =1)"
   ]
  },
  {
   "cell_type": "code",
   "execution_count": null,
   "metadata": {},
   "outputs": [],
   "source": [
    "df_train.shape #(9557, 140)"
   ]
  },
  {
   "cell_type": "code",
   "execution_count": null,
   "metadata": {},
   "outputs": [],
   "source": [
    "#X=df_train"
   ]
  },
  {
   "cell_type": "code",
   "execution_count": null,
   "metadata": {},
   "outputs": [],
   "source": [
    "df_test.shape #(23856, 141)"
   ]
  },
  {
   "cell_type": "code",
   "execution_count": null,
   "metadata": {},
   "outputs": [],
   "source": [
    "#Scaling the data \n",
    "scale = StandardScaler()\n",
    "X = scale.fit_transform(X)"
   ]
  },
  {
   "cell_type": "code",
   "execution_count": null,
   "metadata": {},
   "outputs": [],
   "source": [
    "#Final set of features for modelling \n",
    "X.shape #(9557, 80)"
   ]
  },
  {
   "cell_type": "code",
   "execution_count": null,
   "metadata": {},
   "outputs": [],
   "source": [
    "y.shape #(9557)"
   ]
  },
  {
   "cell_type": "code",
   "execution_count": null,
   "metadata": {},
   "outputs": [],
   "source": [
    "df_test.shape #(23856, 141)"
   ]
  },
  {
   "cell_type": "code",
   "execution_count": null,
   "metadata": {},
   "outputs": [],
   "source": [
    "#Splitting the data into test and trainn\n",
    "X_train, X_test, y_train, y_test = train_test_split(\n",
    "                                                    X,\n",
    "                                                    y,\n",
    "                                                    test_size = 0.3, stratify = y)"
   ]
  },
  {
   "cell_type": "code",
   "execution_count": null,
   "metadata": {},
   "outputs": [],
   "source": [
    "print(\"The X_train dataset has {0} rows and {1} columns\".format(X_train.shape[0], X_train.shape[1]))\n",
    "print(\"The X_test dataset has {0} rows and {1} columns\".format(X_test.shape[0], X_test.shape[1]))\n",
    "print(\"The y_train dataset has {0} rows\".format(y_train.shape[0]))\n",
    "print(\"The y_test dataset has {0} rows\".format(y_test.shape[0]))"
   ]
  },
  {
   "cell_type": "markdown",
   "metadata": {},
   "source": [
    "## Part II - Modelling"
   ]
  },
  {
   "cell_type": "markdown",
   "metadata": {},
   "source": [
    "### Model 1 - Random Forest"
   ]
  },
  {
   "cell_type": "markdown",
   "metadata": {},
   "source": [
    "This is a supervised, regression machine learning and it is supervised because we have both the features and the target that we want to predict. As part of this section providing random forest both the features and targets and it must learn how to map the data to a prediction. "
   ]
  },
  {
   "cell_type": "markdown",
   "metadata": {},
   "source": [
    "**Steps to Follow**:\n",
    "1. State the question and determine required data\n",
    "2. Acquire the data in an accessible format\n",
    "3. Identify and correct missing data points/anomalies as required\n",
    "4. Prepare the data for the machine learning model\n",
    "5. Establish a baseline model that you aim to exceed\n",
    "6. Train the model on the training data\n",
    "7. Make predictions on the test data\n",
    "8. Compare predictions to the known test set targets and calculate performance metrics\n",
    "9. If performance is not satisfactory, adjust the model, acquire more data, or try a different modeling technique\n",
    "10. Interpret model and report results visually and numerically."
   ]
  },
  {
   "cell_type": "markdown",
   "metadata": {},
   "source": [
    "Most of ther steps untill data cleanup and splitting has been completed before we began modelling and hence will focus now more on the remaining steps."
   ]
  },
  {
   "cell_type": "markdown",
   "metadata": {},
   "source": [
    "After all the work of data preparation before modelling, creating and training the model is simple using Scikit-learn.\n",
    "\n",
    "We import the random forest regression model from skicit-learn, instantiate the model, and fit (scikit-learn’s name for training) the model on the training data. (Again setting the random state for reproducible results)."
   ]
  },
  {
   "cell_type": "code",
   "execution_count": null,
   "metadata": {},
   "outputs": [],
   "source": [
    "modelrf = rf()"
   ]
  },
  {
   "cell_type": "code",
   "execution_count": null,
   "metadata": {},
   "outputs": [],
   "source": [
    "modelrf = modelrf.fit(X_train, y_train)\n",
    "start = time.time()\n",
    "end = time.time()\n",
    "(end-start)/60"
   ]
  },
  {
   "cell_type": "code",
   "execution_count": null,
   "metadata": {},
   "outputs": [],
   "source": [
    "classes = modelrf.predict(X_test)\n",
    "classes"
   ]
  },
  {
   "cell_type": "code",
   "execution_count": null,
   "metadata": {},
   "outputs": [],
   "source": [
    "(classes == y_test).sum()/y_test.size  #91"
   ]
  },
  {
   "cell_type": "code",
   "execution_count": null,
   "metadata": {},
   "outputs": [],
   "source": [
    "f1 = f1_score(y_test, classes, average='macro')\n",
    "f1 #56"
   ]
  },
  {
   "cell_type": "code",
   "execution_count": null,
   "metadata": {},
   "outputs": [],
   "source": [
    " y_pred = modelrf.predict(X_test)\n",
    " accuracy_score(y_test, y_pred) #91"
   ]
  },
  {
   "cell_type": "code",
   "execution_count": null,
   "metadata": {},
   "outputs": [],
   "source": [
    "f  = confusion_matrix( y_test, classes )#confusion_matrix(y_true, y_pred)\n",
    "f"
   ]
  },
  {
   "cell_type": "code",
   "execution_count": null,
   "metadata": {},
   "outputs": [],
   "source": [
    "bayes_tuner = BayesSearchCV(\n",
    "    #  Place your estimator here with those parameter values\n",
    "    #      that you DO NOT WANT TO TUNE\n",
    "    rf(\n",
    "       n_jobs = 2         # No need to tune this parameter value\n",
    "      ),\n",
    "\n",
    "    # 2.12 Specify estimator parameters that you would like to change/tune\n",
    "    {\n",
    "        'n_estimators': (80, 500),           # Specify integer-values parameters like this\n",
    "        'criterion': ['gini', 'entropy'],     # Specify categorical parameters as here\n",
    "        'max_depth': (4, 100),                # integer valued parameter\n",
    "        'max_features' : (10,64),             # integer-valued parameter\n",
    "        'min_weight_fraction_leaf' : (0,0.5, 'uniform')   # Float-valued parameter\n",
    "    },\n",
    "\n",
    "\n",
    "    n_iter=32,            # How many points to sample\n",
    "    cv = 3                # Number of cross-validation folds\n",
    ")\n",
    "# Start op"
   ]
  },
  {
   "cell_type": "code",
   "execution_count": null,
   "metadata": {},
   "outputs": [],
   "source": [
    "bayes_tuner.fit(X_train, y_train)"
   ]
  },
  {
   "cell_type": "code",
   "execution_count": null,
   "metadata": {},
   "outputs": [],
   "source": [
    "best_params = pd.Series(bayes_tuner.best_params_)\n",
    "best_params"
   ]
  },
  {
   "cell_type": "code",
   "execution_count": null,
   "metadata": {},
   "outputs": [],
   "source": [
    "TunedRF=rf(criterion=\"gini\",\n",
    "               max_depth=100,\n",
    "               max_features=64,\n",
    "               min_weight_fraction_leaf=0.0,\n",
    "               n_estimators=500)"
   ]
  },
  {
   "cell_type": "code",
   "execution_count": null,
   "metadata": {},
   "outputs": [],
   "source": [
    "start = time.time()\n",
    "TunedRF = TunedRF.fit(X_train, y_train)\n",
    "end = time.time()\n",
    "(end-start)/60"
   ]
  },
  {
   "cell_type": "markdown",
   "metadata": {},
   "source": [
    "Our model has now been trained to learn the relationships between the features and the targets. \n",
    "\n",
    "The next step is figuring out how good the model is! To do this we make predictions on the test features (the model is never allowed to see the test answers). \n",
    "\n",
    "We then compare the predictions to the known answers. \n",
    "\n",
    "When performing regression, we need to make sure to use the **absolute error** because we expect some of our answers to be low and some to be high. We are interested in how far away our average prediction is from the actual value so we take the absolute value."
   ]
  },
  {
   "cell_type": "code",
   "execution_count": null,
   "metadata": {},
   "outputs": [],
   "source": [
    "rf_predict=TunedRF.predict(X_test)\n",
    "rf_predict"
   ]
  },
  {
   "cell_type": "code",
   "execution_count": null,
   "metadata": {},
   "outputs": [],
   "source": [
    "#  What accuracy is available on test-data\n",
    "(rf_predict == y_test).sum()/y_test.size "
   ]
  },
  {
   "cell_type": "code",
   "execution_count": null,
   "metadata": {},
   "outputs": [],
   "source": [
    "bayes_tuner.best_score_"
   ]
  },
  {
   "cell_type": "markdown",
   "metadata": {},
   "source": [
    "#### Random Forest has provided an accuracy of 92.95%"
   ]
  },
  {
   "cell_type": "markdown",
   "metadata": {},
   "source": [
    "In order to quantify the usefulness of all the variables in the entire random forest, we can look at the relative importances of the variables. The importances returned in Skicit-learn represent how much including a particular variable improves the prediction. The actual calculation of the importance is beyond the scope of this post, but we can use the numbers to make relative comparisons between variables."
   ]
  },
  {
   "cell_type": "code",
   "execution_count": null,
   "metadata": {},
   "outputs": [],
   "source": [
    "#  And what all sets of parameters were tried?\n",
    "bayes_tuner.cv_results_['params']"
   ]
  },
  {
   "cell_type": "markdown",
   "metadata": {},
   "source": [
    "Hyperparameters in Random Forest"
   ]
  },
  {
   "cell_type": "code",
   "execution_count": null,
   "metadata": {},
   "outputs": [],
   "source": [
    "rf = rf(random_state = 42)\n",
    "from pprint import pprint\n",
    "# Look at parameters used by our current forest\n",
    "print('Parameters currently in use:\\n')\n",
    "pprint(rf.get_params())"
   ]
  },
  {
   "cell_type": "code",
   "execution_count": null,
   "metadata": {},
   "outputs": [],
   "source": [
    "from sklearn.model_selection import RandomizedSearchCV\n",
    "# Number of trees in random forest\n",
    "n_estimators = [int(x) for x in np.linspace(start = 200, stop = 2000, num = 10)]\n",
    "# Number of features to consider at every split\n",
    "max_features = ['auto', 'sqrt']\n",
    "# Maximum number of levels in tree\n",
    "max_depth = [int(x) for x in np.linspace(10, 110, num = 11)]\n",
    "max_depth.append(None)\n",
    "# Minimum number of samples required to split a node\n",
    "min_samples_split = [2, 5, 10]\n",
    "# Minimum number of samples required at each leaf node\n",
    "min_samples_leaf = [1, 2, 4]\n",
    "# Method of selecting samples for training each tree\n",
    "bootstrap = [True, False]\n",
    "# Create the random grid\n",
    "random_grid = {'n_estimators': n_estimators,\n",
    "               'max_features': max_features,\n",
    "               'max_depth': max_depth,\n",
    "               'min_samples_split': min_samples_split,\n",
    "               'min_samples_leaf': min_samples_leaf,\n",
    "               'bootstrap': bootstrap}\n",
    "pprint(random_grid)"
   ]
  },
  {
   "cell_type": "code",
   "execution_count": null,
   "metadata": {},
   "outputs": [],
   "source": [
    "# Use the random grid to search for best hyperparameters\n",
    "# First create the base model to tune\n",
    "rf = RandomForestRegressor()\n",
    "# Random search of parameters, using 3 fold cross validation, \n",
    "# search across 100 different combinations, and use all available cores\n",
    "rf_random = RandomizedSearchCV(estimator = rf, param_distributions = random_grid, n_iter = 100, cv = 3, verbose=2, random_state=42, n_jobs = -1)\n",
    "# Fit the random search model\n",
    "rf_random.fit(X_train, y_train)"
   ]
  },
  {
   "cell_type": "code",
   "execution_count": null,
   "metadata": {},
   "outputs": [],
   "source": [
    "rf_random.best_params_"
   ]
  },
  {
   "cell_type": "code",
   "execution_count": null,
   "metadata": {},
   "outputs": [],
   "source": [
    "def evaluate(model, test_features, test_labels):\n",
    "    predictions = model.predict(test_features)\n",
    "    errors = abs(predictions - test_labels)\n",
    "    mape = 100 * np.mean(errors / test_labels)\n",
    "    accuracy = 100 - mape\n",
    "    print('Model Performance')\n",
    "    print('Average Error: {:0.4f} degrees.'.format(np.mean(errors)))\n",
    "    print('Accuracy = {:0.2f}%.'.format(accuracy))\n",
    "    \n",
    "    return accuracy\n",
    "base_model = RandomForestRegressor(n_estimators = 10, random_state = 42)\n",
    "base_model.fit(X_train, y_train)\n",
    "base_accuracy = evaluate(base_model, X_test, y_test)"
   ]
  },
  {
   "cell_type": "code",
   "execution_count": null,
   "metadata": {},
   "outputs": [],
   "source": [
    "best_random = rf_random.best_estimator_\n",
    "random_accuracy = evaluate(best_random, X_test, y_test)"
   ]
  },
  {
   "cell_type": "code",
   "execution_count": null,
   "metadata": {},
   "outputs": [],
   "source": [
    "print('Improvement of {:0.2f}%.'.format( 100 * (random_accuracy - base_accuracy) / base_accuracy))"
   ]
  },
  {
   "cell_type": "markdown",
   "metadata": {},
   "source": [
    "We achieved an **improvement in accuracy of 0.86%**. \n",
    "\n",
    "Depending on the application, this could be a significant benefit. \n",
    "\n",
    "We can further improve our results by using grid search to focus on the most promising hyperparameters ranges found in the random search."
   ]
  },
  {
   "cell_type": "markdown",
   "metadata": {},
   "source": [
    "#### Grid Search with Cross Validation (CV)"
   ]
  },
  {
   "cell_type": "code",
   "execution_count": null,
   "metadata": {},
   "outputs": [],
   "source": [
    "from sklearn.model_selection import GridSearchCV\n",
    "# Create the parameter grid based on the results of random search \n",
    "param_grid = {\n",
    "    'bootstrap': [True],\n",
    "    'max_depth': [80, 90, 100, 110],\n",
    "    'max_features': [2, 3],\n",
    "    'min_samples_leaf': [3, 4, 5],\n",
    "    'min_samples_split': [8, 10, 12],\n",
    "    'n_estimators': [100, 200, 300, 1000]\n",
    "}\n",
    "# Create a based model\n",
    "rf = RandomForestRegressor()\n",
    "# Instantiate the grid search model\n",
    "grid_search = GridSearchCV(estimator = rf, param_grid = param_grid, \n",
    "                          cv = 3, n_jobs = -1, verbose = 2)"
   ]
  },
  {
   "cell_type": "markdown",
   "metadata": {},
   "source": [
    "This will try out 1 x 4 x 2 x 3 x 3 x 4 = 288 combinations of settings. \n",
    "\n",
    "We can fit the model, display the best hyperparameters, and evaluate performance:"
   ]
  },
  {
   "cell_type": "code",
   "execution_count": null,
   "metadata": {},
   "outputs": [],
   "source": [
    "# Fit the grid search to the data\n",
    "grid_search.fit(X_train, y_train)\n",
    "grid_search.best_params_\n",
    "{'bootstrap': True,\n",
    " 'max_depth': 80,\n",
    " 'max_features': 3,\n",
    " 'min_samples_leaf': 5,\n",
    " 'min_samples_split': 12,\n",
    " 'n_estimators': 100}\n",
    "best_grid = grid_search.best_estimator_\n",
    "grid_accuracy = evaluate(best_grid, X_test, y_test)"
   ]
  },
  {
   "cell_type": "code",
   "execution_count": null,
   "metadata": {},
   "outputs": [],
   "source": [
    "print('Improvement of {:0.2f}%.'.format( 100 * (grid_accuracy - base_accuracy) / base_accuracy))"
   ]
  },
  {
   "cell_type": "markdown",
   "metadata": {},
   "source": [
    "### Results of Random Forest Classifier"
   ]
  },
  {
   "cell_type": "markdown",
   "metadata": {},
   "source": [
    "**Accuracy on Test Data with Random Forest is : 94.94%**"
   ]
  },
  {
   "cell_type": "markdown",
   "metadata": {},
   "source": [
    "### Model 2 - Gradient Boosting Classifier"
   ]
  },
  {
   "cell_type": "markdown",
   "metadata": {},
   "source": [
    "Gradient Boosting involves 3 elements:\n",
    "1. A loss function to be optimised.\n",
    "2. A weak learner to make predictions.\n",
    "3. An additive model to add weak learners to minimise the loss function."
   ]
  },
  {
   "cell_type": "markdown",
   "metadata": {},
   "source": [
    "Imporovements that can be done to Basic Gradient Boosting:\n",
    "1. Tree Constraints\n",
    "2. Shrinkage\n",
    "3. Random Sampling\n",
    "4. Penalized Learning"
   ]
  },
  {
   "cell_type": "code",
   "execution_count": null,
   "metadata": {},
   "outputs": [],
   "source": [
    "modelgbm=gbm()"
   ]
  },
  {
   "cell_type": "code",
   "execution_count": null,
   "metadata": {},
   "outputs": [],
   "source": [
    "start = time.time()\n",
    "modelgbm = modelgbm.fit(X_train, y_train)\n",
    "end = time.time()\n",
    "(end-start)/60"
   ]
  },
  {
   "cell_type": "code",
   "execution_count": null,
   "metadata": {},
   "outputs": [],
   "source": [
    "classes = modelgbm.predict(X_test)\n",
    "classes"
   ]
  },
  {
   "cell_type": "code",
   "execution_count": null,
   "metadata": {},
   "outputs": [],
   "source": [
    "unique_elements, counts_elements = np.unique(classes, return_counts=True)\n",
    "print(np.asarray((unique_elements, counts_elements)))"
   ]
  },
  {
   "cell_type": "code",
   "execution_count": null,
   "metadata": {},
   "outputs": [],
   "source": [
    "(classes == y_test).sum()/y_test.size #93\t"
   ]
  },
  {
   "cell_type": "markdown",
   "metadata": {},
   "source": [
    "#### Gradient Boosting Classifier has given an accuracy of 92.29%"
   ]
  },
  {
   "cell_type": "code",
   "execution_count": null,
   "metadata": {},
   "outputs": [],
   "source": [
    "f1 = f1_score(y_test, classes, average='macro')\t\n",
    "f1 # 58%"
   ]
  },
  {
   "cell_type": "code",
   "execution_count": null,
   "metadata": {},
   "outputs": [],
   "source": [
    "bayes_tuner = BayesSearchCV(\n",
    "        gbm(\n",
    "            ),\n",
    "    {\n",
    "        'n_estimators': (100, 500),           # Specify integer-values parameters like this \t\n",
    "        'max_depth': (4, 100),                # integer valued parameter\t\n",
    "        'max_features' : (10,64),             # integer-valued parameter\t\n",
    "        'min_weight_fraction_leaf' : (0,0.5, 'uniform')   # Float-valued parameter\t\n",
    "    },\n",
    "    n_iter=32,            # How many points to sample\t\n",
    "    cv = 3                # Number of cross-validation folds\t\n",
    ")"
   ]
  },
  {
   "cell_type": "code",
   "execution_count": null,
   "metadata": {},
   "outputs": [],
   "source": [
    "bayes_tuner.fit(X_train, y_train)"
   ]
  },
  {
   "cell_type": "code",
   "execution_count": null,
   "metadata": {},
   "outputs": [],
   "source": [
    "best_params = pd.Series(bayes_tuner.best_params_)\t\n",
    "best_params"
   ]
  },
  {
   "cell_type": "code",
   "execution_count": null,
   "metadata": {},
   "outputs": [],
   "source": [
    "TunedGBM=rf(criterion=\"entropy\",\n",
    "               max_depth=100,\n",
    "               max_features=64,\n",
    "               min_weight_fraction_leaf=0.0,\n",
    "               n_estimators=250)"
   ]
  },
  {
   "cell_type": "code",
   "execution_count": null,
   "metadata": {},
   "outputs": [],
   "source": [
    "start = time.time()\n",
    "TunedGBM = TunedGBM.fit(X_train, y_train)\n",
    "end = time.time()\n",
    "(end-start)/60"
   ]
  },
  {
   "cell_type": "markdown",
   "metadata": {},
   "source": [
    "### Model 3: Extra Tree Classifier\t"
   ]
  },
  {
   "cell_type": "code",
   "execution_count": null,
   "metadata": {},
   "outputs": [],
   "source": [
    "modeletf = ExtraTreesClassifier()\n",
    "start = time.time()\n",
    "modeletf = modeletf.fit(X_train, y_train)\n",
    "end = time.time()\n",
    "(end-start)/60"
   ]
  },
  {
   "cell_type": "code",
   "execution_count": null,
   "metadata": {},
   "outputs": [],
   "source": [
    "classes = modeletf.predict(X_test)\n",
    "classes\t"
   ]
  },
  {
   "cell_type": "code",
   "execution_count": null,
   "metadata": {},
   "outputs": [],
   "source": [
    "(classes == y_test).sum()/y_test.size"
   ]
  },
  {
   "cell_type": "markdown",
   "metadata": {},
   "source": [
    "#### Extra Tree Classifier has given an accuracy of 94.28%"
   ]
  },
  {
   "cell_type": "code",
   "execution_count": null,
   "metadata": {},
   "outputs": [],
   "source": [
    "bayes_cv_tuner = BayesSearchCV(\n",
    "    ExtraTreesClassifier( ),\n",
    "    {   'n_estimators': (100, 500),           # Specify integer-values parameters like this\n",
    "        'criterion': ['gini', 'entropy'],     # Specify categorical parameters as here\n",
    "        'max_depth': (4, 100),                # integer valued parameter\n",
    "        'max_features' : (10,64),             # integer-valued parameter\n",
    "        'min_weight_fraction_leaf' : (0,0.5, 'uniform')   # Float-valued parameter\n",
    "    },\n",
    "    n_iter=32,            # How many points to sample\n",
    "    cv = 2            # Number of cross-validation folds\n",
    ")"
   ]
  },
  {
   "cell_type": "code",
   "execution_count": null,
   "metadata": {},
   "outputs": [],
   "source": [
    "# Start optimization\n",
    "bayes_cv_tuner.fit(X_train, y_train)"
   ]
  },
  {
   "cell_type": "code",
   "execution_count": null,
   "metadata": {},
   "outputs": [],
   "source": [
    "#  Get list of best-parameters\n",
    "bayes_cv_tuner.best_params_"
   ]
  },
  {
   "cell_type": "code",
   "execution_count": null,
   "metadata": {},
   "outputs": [],
   "source": [
    "modeletc=ExtraTreesClassifier(criterion=\"entropy\",\n",
    "               max_depth=100,\n",
    "               max_features=64,\n",
    "               min_weight_fraction_leaf=0.0,\n",
    "               n_estimators=100)"
   ]
  },
  {
   "cell_type": "code",
   "execution_count": null,
   "metadata": {},
   "outputs": [],
   "source": [
    "start = time.time()\n",
    "modeletc = modeletc.fit(X_train, y_train)\n",
    "end = time.time()\n",
    "(end-start)/60"
   ]
  },
  {
   "cell_type": "code",
   "execution_count": null,
   "metadata": {},
   "outputs": [],
   "source": [
    "bayes_cv_tuner.best_score_"
   ]
  },
  {
   "cell_type": "code",
   "execution_count": null,
   "metadata": {},
   "outputs": [],
   "source": [
    "# Accuracy available on test-data\n",
    "bayes_cv_tuner.score(X_test, y_test)"
   ]
  },
  {
   "cell_type": "code",
   "execution_count": null,
   "metadata": {},
   "outputs": [],
   "source": [
    "bayes_cv_tuner.cv_results_['params']"
   ]
  },
  {
   "cell_type": "markdown",
   "metadata": {},
   "source": [
    "### Model 4 - Light GBM"
   ]
  },
  {
   "cell_type": "code",
   "execution_count": null,
   "metadata": {},
   "outputs": [],
   "source": [
    "modellgb = lgb.LGBMClassifier(max_depth=-1, learning_rate=0.1, objective='multiclass',\n",
    "                             random_state=None, silent=True, metric='None', \n",
    "                             n_jobs=4, n_estimators=5000, class_weight='balanced',\n",
    "                             colsample_bytree =  0.93, min_child_samples = 95, num_leaves = 14, subsample = 0.96)\n"
   ]
  },
  {
   "cell_type": "code",
   "execution_count": null,
   "metadata": {},
   "outputs": [],
   "source": [
    "start = time.time()\n",
    "modellgb = modellgb.fit(X_train, y_train)\n",
    "end = time.time()\n",
    "(end-start)/60"
   ]
  },
  {
   "cell_type": "code",
   "execution_count": null,
   "metadata": {},
   "outputs": [],
   "source": [
    "classes = modellgb.predict(X_test)\n",
    "classes\n",
    "(classes == y_test).sum()/y_test.size "
   ]
  },
  {
   "cell_type": "markdown",
   "metadata": {},
   "source": [
    "#### Light GBM has given an accuracy of 94.14%\t"
   ]
  },
  {
   "cell_type": "markdown",
   "metadata": {},
   "source": [
    "### Model 5 KNeighborsClassifier\t"
   ]
  },
  {
   "cell_type": "code",
   "execution_count": null,
   "metadata": {},
   "outputs": [],
   "source": [
    "modelneigh = KNeighborsClassifier(n_neighbors=4)"
   ]
  },
  {
   "cell_type": "code",
   "execution_count": null,
   "metadata": {},
   "outputs": [],
   "source": [
    "start = time.time()\n",
    "modelneigh = modelneigh.fit(X_train, y_train)\n",
    "end = time.time()\n",
    "(end-start)/60"
   ]
  },
  {
   "cell_type": "code",
   "execution_count": null,
   "metadata": {},
   "outputs": [],
   "source": [
    "classes = modelneigh.predict(X_test)\n",
    "classes\n",
    "(classes == y_test).sum()/y_test.size"
   ]
  },
  {
   "cell_type": "markdown",
   "metadata": {},
   "source": [
    "#### KNeighborsClassifie has given an accuracy of 90.55%\t"
   ]
  },
  {
   "cell_type": "markdown",
   "metadata": {},
   "source": [
    "### Model 6 XGBoost\t"
   ]
  },
  {
   "cell_type": "markdown",
   "metadata": {},
   "source": [
    "XGBoost, short for “Extreme Gradient Boosting”, was introduced by Chen in 2014. Since its introduction, XGBoost has become one of the most popular machine learning algorithm. \t"
   ]
  },
  {
   "cell_type": "code",
   "execution_count": null,
   "metadata": {},
   "outputs": [],
   "source": [
    "modelXGB = XGBClassifier()\n",
    "modelXGB.fit(X_train, y_train)"
   ]
  },
  {
   "cell_type": "code",
   "execution_count": null,
   "metadata": {},
   "outputs": [],
   "source": [
    "y_pred = modelXGB.predict(X_test)\t\n",
    "predictions = [round(value) for value in y_pred]"
   ]
  },
  {
   "cell_type": "code",
   "execution_count": null,
   "metadata": {},
   "outputs": [],
   "source": [
    "accuracy = accuracy_score(y_test, predictions)\t\n",
    "print(\"Accuracy: %.2f%%\" % (accuracy * 100.0))"
   ]
  },
  {
   "cell_type": "markdown",
   "metadata": {},
   "source": [
    "#### XGBoost Has given an accuracy of 92.89%\t"
   ]
  },
  {
   "cell_type": "markdown",
   "metadata": {},
   "source": [
    "## Cumilative Model Summary for Costa Rica Project"
   ]
  },
  {
   "cell_type": "markdown",
   "metadata": {},
   "source": [
    "We see that of all the 6 Models, **Extra Tree Classifier tops with an Accuracy of 94.28%**\n",
    "1. Extra Tree Classifier has given an accuracy of 94.28%\n",
    "2. Light GBM has given an accuracy of 94.14%\n",
    "3. Random Forest has provided an accuracy of 93.79%\n",
    "4. Gradient Boosting Classifier has given an accuracy of 93.27%\n",
    "5. XGBoost has given an accuracy of 92.89%\n",
    "6. KNeighborsClassifie has given an accuracy of 90.55%"
   ]
  },
  {
   "cell_type": "markdown",
   "metadata": {},
   "source": [
    "## Hyper Parameter Finetuning - Baysiean Optimization"
   ]
  },
  {
   "cell_type": "markdown",
   "metadata": {},
   "source": [
    "There are two common methods of parameter tuning: grid search and random search. \t\n",
    "Each have their pros and cons. Grid search is slow but effective at searching the whole search space, while random search is fast, but could miss important points in the search space. \t\n",
    "Luckily, a third option exists: Bayesian optimization. \t"
   ]
  },
  {
   "cell_type": "markdown",
   "metadata": {},
   "source": [
    "Using Bayesian optimization for parameter tuning allows us to obtain the best parameters for a given model, e.g., Random Forest. \t\n",
    "This also allows us to perform optimal model selection. Typically, a machine learning engineer or data scientist will perform some form of manual parameter tuning (grid search or random search) for a few models — like decision tree, XGBoost, and k nearest neighbors etc. — then compare the accuracy scores and select the best one for use as this has the possibility of comparing sub-optimal models. Maybe we have found the optimal parameters for the decision tree, but missed the optimal parameters for Random Forest. This means the model comparison was flawed. K nearest neighbors may beat Random Forest every time if the Random Forest parameters are poorly tuned. \t\n",
    "Bayesian optimization allows us to find the best parameters of all the models considered, and therefore compare the best models. \t\n",
    "This results in better model selection, because we are comparing the best k nearest neighbors to the best decision tree, etc. Only in this way can you do model selection with high confidence, assured that the actual best model is selected and used."
   ]
  },
  {
   "cell_type": "markdown",
   "metadata": {},
   "source": [
    "# Sample code from hyperopt\t\n",
    "from hyperopt import fmin, tpe, hp\n",
    "best = fmin(\n",
    "    fn=lambda x: x,\n",
    "    space=hp.uniform('x', 0, 1),\n",
    "    algo=tpe.suggest,\n",
    "    max_evals=100)\n",
    "print(best)"
   ]
  },
  {
   "cell_type": "markdown",
   "metadata": {},
   "source": [
    "### Results of Bayesian Optimization\t"
   ]
  },
  {
   "cell_type": "markdown",
   "metadata": {},
   "source": [
    "#### Extra Tree Classifier its accuracy to 95.01% after finetuning with Bayesian optimization\t\n",
    "#### Random Forest improved its accuracy to 94.45% after finetuning with Bayesian optimization"
   ]
  },
  {
   "cell_type": "code",
   "execution_count": null,
   "metadata": {},
   "outputs": [],
   "source": [
    "#Reference URL : http://rasbt.github.io/mlxtend/user_guide/classifier/StackingCVClassifier/\n",
    "from mlxtend.classifier import StackingCVClassifier\n",
    "clf1 = KNeighborsClassifier(n_neighbors=1)\n",
    "clf2 = RandomForestClassifier(random_state=RANDOM_SEED)\n",
    "clf3 = GaussianNB()\n",
    "lr = LogisticRegression()\n",
    "\n",
    "# Starting from v0.16.0, StackingCVRegressor supports\n",
    "# `random_state` to get deterministic result.\n",
    "sclf = StackingCVClassifier(classifiers=[clf1, clf2, clf3],\n",
    "                            meta_classifier=lr,\n",
    "                            random_state=RANDOM_SEED)\n",
    "\n",
    "print('3-fold cross validation:\\n')\n",
    "\n",
    "for clf, label in zip([clf1, clf2, clf3, sclf], \n",
    "                      ['KNN', \n",
    "                       'Random Forest', \n",
    "                       'Naive Bayes',\n",
    "                       'StackingClassifier']):\n",
    "\n",
    "    scores = model_selection.cross_val_score(clf, X, y, \n",
    "                                              cv=3, scoring='accuracy')\n",
    "    print(\"Accuracy: %0.2f (+/- %0.2f) [%s]\" \n",
    "          % (scores.mean(), scores.std(), label))\n",
    "    \n",
    "import matplotlib.pyplot as plt\n",
    "from mlxtend.plotting import plot_decision_regions\n",
    "import matplotlib.gridspec as gridspec\n",
    "import itertools\n",
    "\n",
    "gs = gridspec.GridSpec(2, 2)\n",
    "\n",
    "fig = plt.figure(figsize=(10,8))\n",
    "\n",
    "for clf, lab, grd in zip([clf1, clf2, clf3, sclf], \n",
    "                         ['KNN', \n",
    "                          'Random Forest', \n",
    "                          'Naive Bayes',\n",
    "                          'StackingCVClassifier'],\n",
    "                          itertools.product([0, 1], repeat=2)):\n",
    "\n",
    "    clf.fit(X, y)\n",
    "    ax = plt.subplot(gs[grd[0], grd[1]])\n",
    "    fig = plot_decision_regions(X=X, y=y, clf=clf)\n",
    "    plt.title(lab)\n",
    "plt.show()"
   ]
  }
 ],
 "metadata": {
  "kernelspec": {
   "display_name": "Python 3",
   "language": "python",
   "name": "python3"
  },
  "language_info": {
   "codemirror_mode": {
    "name": "ipython",
    "version": 3
   },
   "file_extension": ".py",
   "mimetype": "text/x-python",
   "name": "python",
   "nbconvert_exporter": "python",
   "pygments_lexer": "ipython3",
   "version": "3.7.3"
  }
 },
 "nbformat": 4,
 "nbformat_minor": 1
}
