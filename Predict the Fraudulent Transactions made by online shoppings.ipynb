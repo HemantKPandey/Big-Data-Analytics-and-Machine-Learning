{
 "cells": [
  {
   "cell_type": "markdown",
   "metadata": {},
   "source": [
    "### This is for Big Data Aanlysis of Transactions to find whether the Transaction was frudlant or not."
   ]
  },
  {
   "cell_type": "code",
   "execution_count": 1,
   "metadata": {},
   "outputs": [],
   "source": [
    "# Hide Warnings\n",
    "import warnings\n",
    "warnings.filterwarnings(action=\"ignore\", module=\"scipy\", message=\"^internal gelsd\")"
   ]
  },
  {
   "cell_type": "code",
   "execution_count": 2,
   "metadata": {},
   "outputs": [],
   "source": [
    "# 1.0 Reset memory\n",
    "%reset -f"
   ]
  },
  {
   "cell_type": "code",
   "execution_count": 3,
   "metadata": {},
   "outputs": [],
   "source": [
    "#Call libraries\n",
    "import numpy as np\n",
    "import pandas as pd\n",
    "import seaborn as sns\n",
    "# 1.2 For OS And TIME related operations\n",
    "import os\n",
    "import time \n",
    "# allow plots to appear directly in the notebook\n",
    "import matplotlib.pyplot as plt\n",
    "%matplotlib inline"
   ]
  },
  {
   "cell_type": "code",
   "execution_count": 9,
   "metadata": {},
   "outputs": [],
   "source": [
    "# Class for applying multiple data transformation jobs\n",
    "from sklearn.compose import ColumnTransformer\n",
    "# Scale numeric data\n",
    "from sklearn.preprocessing import StandardScaler as ss\n",
    "# One hot encode data--Convert to dummy\n",
    "from sklearn.preprocessing import OneHotEncoder as ohe\n",
    "from sklearn import preprocessing \n",
    "from sklearn.preprocessing import LabelEncoder\n",
    "from sklearn import metrics\n",
    "from imblearn.over_sampling import SMOTE, ADASYN\n",
    "# from sklearn.cross_validation import train_test_split\n",
    "from sklearn.model_selection import train_test_split\n",
    "# Modeling by Decision Tree:\n",
    "from sklearn.tree import DecisionTreeClassifier as dt\n",
    "# 19.1 Also create confusion matrix using pandas dataframe\n",
    "import scikitplot as skplt\n",
    "from sklearn.metrics import confusion_matrix, average_precision_score\n",
    "from sklearn.linear_model import LogisticRegression\n",
    "from xgboost.sklearn import XGBClassifier\n",
    "from bayes_opt import BayesianOptimization\n",
    "from sklearn.pipeline import Pipeline,make_pipeline\n",
    "from sklearn.decomposition import PCA\n",
    "from sklearn.model_selection import cross_val_score\n",
    "from sklearn.model_selection import GridSearchCV as GCV\n",
    "from xgboost.sklearn import XGBClassifier"
   ]
  },
  {
   "cell_type": "markdown",
   "metadata": {},
   "source": [
    "# Load your training dataset (Assignemnt csv table)"
   ]
  },
  {
   "cell_type": "code",
   "execution_count": 11,
   "metadata": {},
   "outputs": [
    {
     "data": {
      "text/plain": [
       "['Anaconda3-2019.03-Windows-x86_64.exe',\n",
       " 'CreditCard_FraudTransactions_ChandrasekaranNageswaran2.ipynb',\n",
       " 'datasetForFinalAssignment.csv',\n",
       " 'datasetForFinalTest.csv',\n",
       " 'Niloy_UCR Project_Final_20th May.ipynb',\n",
       " 'Reference.ipynb',\n",
       " 'submissionChandrasekaranNageswaran.csv']"
      ]
     },
     "execution_count": 11,
     "metadata": {},
     "output_type": "execute_result"
    }
   ],
   "source": [
    "# 2.1 Change ipython options to display all data columns\n",
    "pd.options.display.max_columns = 300\n",
    "os.chdir(\"C:\\\\Learn and Grow\\\\Big Data Learning\\\\Excercises\\Oflus UCR final project\") # Your Dir Path goes here\n",
    "os.listdir()"
   ]
  },
  {
   "cell_type": "code",
   "execution_count": 13,
   "metadata": {},
   "outputs": [
    {
     "data": {
      "text/html": [
       "<div>\n",
       "<style scoped>\n",
       "    .dataframe tbody tr th:only-of-type {\n",
       "        vertical-align: middle;\n",
       "    }\n",
       "\n",
       "    .dataframe tbody tr th {\n",
       "        vertical-align: top;\n",
       "    }\n",
       "\n",
       "    .dataframe thead th {\n",
       "        text-align: right;\n",
       "    }\n",
       "</style>\n",
       "<table border=\"1\" class=\"dataframe\">\n",
       "  <thead>\n",
       "    <tr style=\"text-align: right;\">\n",
       "      <th></th>\n",
       "      <th>Column 1</th>\n",
       "      <th>user_id</th>\n",
       "      <th>signup_time</th>\n",
       "      <th>purchase_time</th>\n",
       "      <th>signup_time-purchase_time</th>\n",
       "      <th>purchase_value</th>\n",
       "      <th>device_id</th>\n",
       "      <th>source</th>\n",
       "      <th>browser</th>\n",
       "      <th>sex</th>\n",
       "      <th>age</th>\n",
       "      <th>ip_address</th>\n",
       "      <th>class</th>\n",
       "      <th>N[device_id]</th>\n",
       "    </tr>\n",
       "  </thead>\n",
       "  <tbody>\n",
       "    <tr>\n",
       "      <th>0</th>\n",
       "      <td>149671</td>\n",
       "      <td>285108</td>\n",
       "      <td>07/15/2015 4:36 AM</td>\n",
       "      <td>09/10/2015 2:17 PM</td>\n",
       "      <td>82661</td>\n",
       "      <td>31</td>\n",
       "      <td>HZAKVUFTDOSFD</td>\n",
       "      <td>Direct</td>\n",
       "      <td>Chrome</td>\n",
       "      <td>M</td>\n",
       "      <td>49</td>\n",
       "      <td>2.818400e+09</td>\n",
       "      <td>0</td>\n",
       "      <td>2</td>\n",
       "    </tr>\n",
       "    <tr>\n",
       "      <th>1</th>\n",
       "      <td>84546</td>\n",
       "      <td>229053</td>\n",
       "      <td>01/07/2015 1:19 PM</td>\n",
       "      <td>01/09/2015 10:12 AM</td>\n",
       "      <td>2693</td>\n",
       "      <td>29</td>\n",
       "      <td>MFFIHYNXCJLEY</td>\n",
       "      <td>SEO</td>\n",
       "      <td>Chrome</td>\n",
       "      <td>M</td>\n",
       "      <td>34</td>\n",
       "      <td>2.083420e+09</td>\n",
       "      <td>0</td>\n",
       "      <td>1</td>\n",
       "    </tr>\n",
       "    <tr>\n",
       "      <th>2</th>\n",
       "      <td>35978</td>\n",
       "      <td>108439</td>\n",
       "      <td>02/08/2015 9:11 PM</td>\n",
       "      <td>04/09/2015 2:26 PM</td>\n",
       "      <td>85995</td>\n",
       "      <td>26</td>\n",
       "      <td>WMSXWGVPNIFBM</td>\n",
       "      <td>Ads</td>\n",
       "      <td>FireFox</td>\n",
       "      <td>M</td>\n",
       "      <td>33</td>\n",
       "      <td>3.207913e+09</td>\n",
       "      <td>0</td>\n",
       "      <td>1</td>\n",
       "    </tr>\n",
       "    <tr>\n",
       "      <th>3</th>\n",
       "      <td>103053</td>\n",
       "      <td>178528</td>\n",
       "      <td>04/20/2015 8:19 PM</td>\n",
       "      <td>08/03/2015 8:17 PM</td>\n",
       "      <td>151198</td>\n",
       "      <td>35</td>\n",
       "      <td>HUFZWLDYJPRCK</td>\n",
       "      <td>SEO</td>\n",
       "      <td>Chrome</td>\n",
       "      <td>F</td>\n",
       "      <td>30</td>\n",
       "      <td>2.550204e+09</td>\n",
       "      <td>0</td>\n",
       "      <td>1</td>\n",
       "    </tr>\n",
       "    <tr>\n",
       "      <th>4</th>\n",
       "      <td>101025</td>\n",
       "      <td>70424</td>\n",
       "      <td>07/05/2015 4:54 PM</td>\n",
       "      <td>08/25/2015 4:08 PM</td>\n",
       "      <td>73394</td>\n",
       "      <td>43</td>\n",
       "      <td>YDLNPVEWMTMMZ</td>\n",
       "      <td>Direct</td>\n",
       "      <td>IE</td>\n",
       "      <td>M</td>\n",
       "      <td>40</td>\n",
       "      <td>3.310808e+09</td>\n",
       "      <td>0</td>\n",
       "      <td>1</td>\n",
       "    </tr>\n",
       "  </tbody>\n",
       "</table>\n",
       "</div>"
      ],
      "text/plain": [
       "   Column 1  user_id         signup_time        purchase_time  \\\n",
       "0    149671   285108  07/15/2015 4:36 AM   09/10/2015 2:17 PM   \n",
       "1     84546   229053  01/07/2015 1:19 PM  01/09/2015 10:12 AM   \n",
       "2     35978   108439  02/08/2015 9:11 PM   04/09/2015 2:26 PM   \n",
       "3    103053   178528  04/20/2015 8:19 PM   08/03/2015 8:17 PM   \n",
       "4    101025    70424  07/05/2015 4:54 PM   08/25/2015 4:08 PM   \n",
       "\n",
       "   signup_time-purchase_time  purchase_value      device_id  source  browser  \\\n",
       "0                      82661              31  HZAKVUFTDOSFD  Direct   Chrome   \n",
       "1                       2693              29  MFFIHYNXCJLEY     SEO   Chrome   \n",
       "2                      85995              26  WMSXWGVPNIFBM     Ads  FireFox   \n",
       "3                     151198              35  HUFZWLDYJPRCK     SEO   Chrome   \n",
       "4                      73394              43  YDLNPVEWMTMMZ  Direct       IE   \n",
       "\n",
       "  sex  age    ip_address  class  N[device_id]  \n",
       "0   M   49  2.818400e+09      0             2  \n",
       "1   M   34  2.083420e+09      0             1  \n",
       "2   M   33  3.207913e+09      0             1  \n",
       "3   F   30  2.550204e+09      0             1  \n",
       "4   M   40  3.310808e+09      0             1  "
      ]
     },
     "execution_count": 13,
     "metadata": {},
     "output_type": "execute_result"
    }
   ],
   "source": [
    "df_train=pd.read_csv('datasetForFinalAssignment.csv')\n",
    "df_train.head()"
   ]
  },
  {
   "cell_type": "code",
   "execution_count": 14,
   "metadata": {},
   "outputs": [
    {
     "data": {
      "text/plain": [
       "Column 1                       int64\n",
       "user_id                        int64\n",
       "signup_time                   object\n",
       "purchase_time                 object\n",
       "signup_time-purchase_time      int64\n",
       "purchase_value                 int64\n",
       "device_id                     object\n",
       "source                        object\n",
       "browser                       object\n",
       "sex                           object\n",
       "age                            int64\n",
       "ip_address                   float64\n",
       "class                          int64\n",
       "N[device_id]                   int64\n",
       "dtype: object"
      ]
     },
     "execution_count": 14,
     "metadata": {},
     "output_type": "execute_result"
    }
   ],
   "source": [
    "df_train.dtypes"
   ]
  },
  {
   "cell_type": "code",
   "execution_count": 15,
   "metadata": {},
   "outputs": [
    {
     "data": {
      "text/plain": [
       "Index(['user_id', 'signup_time', 'purchase_time', 'signup_time-purchase_time',\n",
       "       'purchase_value', 'device_id', 'source', 'browser', 'sex', 'age',\n",
       "       'ip_address', 'class', 'N[device_id]'],\n",
       "      dtype='object')"
      ]
     },
     "execution_count": 15,
     "metadata": {},
     "output_type": "execute_result"
    }
   ],
   "source": [
    "df_train.drop(['Column 1'],inplace = True, axis ='columns')\n",
    "df_train.columns"
   ]
  },
  {
   "cell_type": "code",
   "execution_count": 16,
   "metadata": {},
   "outputs": [
    {
     "data": {
      "text/plain": [
       "0    0\n",
       "1    0\n",
       "2    0\n",
       "3    0\n",
       "4    0\n",
       "Name: class, dtype: int64"
      ]
     },
     "execution_count": 16,
     "metadata": {},
     "output_type": "execute_result"
    }
   ],
   "source": [
    "y=df_train['class']\n",
    "#y.reset_index(drop=True)\n",
    "y.head()"
   ]
  },
  {
   "cell_type": "code",
   "execution_count": 17,
   "metadata": {},
   "outputs": [
    {
     "data": {
      "text/html": [
       "<div>\n",
       "<style scoped>\n",
       "    .dataframe tbody tr th:only-of-type {\n",
       "        vertical-align: middle;\n",
       "    }\n",
       "\n",
       "    .dataframe tbody tr th {\n",
       "        vertical-align: top;\n",
       "    }\n",
       "\n",
       "    .dataframe thead th {\n",
       "        text-align: right;\n",
       "    }\n",
       "</style>\n",
       "<table border=\"1\" class=\"dataframe\">\n",
       "  <thead>\n",
       "    <tr style=\"text-align: right;\">\n",
       "      <th></th>\n",
       "      <th>user_id</th>\n",
       "      <th>signup_time</th>\n",
       "      <th>purchase_time</th>\n",
       "      <th>signup_time-purchase_time</th>\n",
       "      <th>purchase_value</th>\n",
       "      <th>device_id</th>\n",
       "      <th>source</th>\n",
       "      <th>browser</th>\n",
       "      <th>sex</th>\n",
       "      <th>age</th>\n",
       "      <th>ip_address</th>\n",
       "      <th>N[device_id]</th>\n",
       "    </tr>\n",
       "  </thead>\n",
       "  <tbody>\n",
       "    <tr>\n",
       "      <th>0</th>\n",
       "      <td>285108</td>\n",
       "      <td>07/15/2015 4:36 AM</td>\n",
       "      <td>09/10/2015 2:17 PM</td>\n",
       "      <td>82661</td>\n",
       "      <td>31</td>\n",
       "      <td>HZAKVUFTDOSFD</td>\n",
       "      <td>Direct</td>\n",
       "      <td>Chrome</td>\n",
       "      <td>M</td>\n",
       "      <td>49</td>\n",
       "      <td>2.818400e+09</td>\n",
       "      <td>2</td>\n",
       "    </tr>\n",
       "    <tr>\n",
       "      <th>1</th>\n",
       "      <td>229053</td>\n",
       "      <td>01/07/2015 1:19 PM</td>\n",
       "      <td>01/09/2015 10:12 AM</td>\n",
       "      <td>2693</td>\n",
       "      <td>29</td>\n",
       "      <td>MFFIHYNXCJLEY</td>\n",
       "      <td>SEO</td>\n",
       "      <td>Chrome</td>\n",
       "      <td>M</td>\n",
       "      <td>34</td>\n",
       "      <td>2.083420e+09</td>\n",
       "      <td>1</td>\n",
       "    </tr>\n",
       "    <tr>\n",
       "      <th>2</th>\n",
       "      <td>108439</td>\n",
       "      <td>02/08/2015 9:11 PM</td>\n",
       "      <td>04/09/2015 2:26 PM</td>\n",
       "      <td>85995</td>\n",
       "      <td>26</td>\n",
       "      <td>WMSXWGVPNIFBM</td>\n",
       "      <td>Ads</td>\n",
       "      <td>FireFox</td>\n",
       "      <td>M</td>\n",
       "      <td>33</td>\n",
       "      <td>3.207913e+09</td>\n",
       "      <td>1</td>\n",
       "    </tr>\n",
       "    <tr>\n",
       "      <th>3</th>\n",
       "      <td>178528</td>\n",
       "      <td>04/20/2015 8:19 PM</td>\n",
       "      <td>08/03/2015 8:17 PM</td>\n",
       "      <td>151198</td>\n",
       "      <td>35</td>\n",
       "      <td>HUFZWLDYJPRCK</td>\n",
       "      <td>SEO</td>\n",
       "      <td>Chrome</td>\n",
       "      <td>F</td>\n",
       "      <td>30</td>\n",
       "      <td>2.550204e+09</td>\n",
       "      <td>1</td>\n",
       "    </tr>\n",
       "    <tr>\n",
       "      <th>4</th>\n",
       "      <td>70424</td>\n",
       "      <td>07/05/2015 4:54 PM</td>\n",
       "      <td>08/25/2015 4:08 PM</td>\n",
       "      <td>73394</td>\n",
       "      <td>43</td>\n",
       "      <td>YDLNPVEWMTMMZ</td>\n",
       "      <td>Direct</td>\n",
       "      <td>IE</td>\n",
       "      <td>M</td>\n",
       "      <td>40</td>\n",
       "      <td>3.310808e+09</td>\n",
       "      <td>1</td>\n",
       "    </tr>\n",
       "  </tbody>\n",
       "</table>\n",
       "</div>"
      ],
      "text/plain": [
       "   user_id         signup_time        purchase_time  \\\n",
       "0   285108  07/15/2015 4:36 AM   09/10/2015 2:17 PM   \n",
       "1   229053  01/07/2015 1:19 PM  01/09/2015 10:12 AM   \n",
       "2   108439  02/08/2015 9:11 PM   04/09/2015 2:26 PM   \n",
       "3   178528  04/20/2015 8:19 PM   08/03/2015 8:17 PM   \n",
       "4    70424  07/05/2015 4:54 PM   08/25/2015 4:08 PM   \n",
       "\n",
       "   signup_time-purchase_time  purchase_value      device_id  source  browser  \\\n",
       "0                      82661              31  HZAKVUFTDOSFD  Direct   Chrome   \n",
       "1                       2693              29  MFFIHYNXCJLEY     SEO   Chrome   \n",
       "2                      85995              26  WMSXWGVPNIFBM     Ads  FireFox   \n",
       "3                     151198              35  HUFZWLDYJPRCK     SEO   Chrome   \n",
       "4                      73394              43  YDLNPVEWMTMMZ  Direct       IE   \n",
       "\n",
       "  sex  age    ip_address  N[device_id]  \n",
       "0   M   49  2.818400e+09             2  \n",
       "1   M   34  2.083420e+09             1  \n",
       "2   M   33  3.207913e+09             1  \n",
       "3   F   30  2.550204e+09             1  \n",
       "4   M   40  3.310808e+09             1  "
      ]
     },
     "execution_count": 17,
     "metadata": {},
     "output_type": "execute_result"
    }
   ],
   "source": [
    "X = df_train.drop(['class'],axis ='columns')\n",
    "X.head()"
   ]
  },
  {
   "cell_type": "markdown",
   "metadata": {},
   "source": [
    "# Bar chart of labels"
   ]
  },
  {
   "cell_type": "code",
   "execution_count": 18,
   "metadata": {},
   "outputs": [
    {
     "data": {
      "text/plain": [
       "<matplotlib.axes._subplots.AxesSubplot at 0x186914dcd68>"
      ]
     },
     "execution_count": 18,
     "metadata": {},
     "output_type": "execute_result"
    },
    {
     "data": {
      "image/png": "[encoded data removed]",
      "text/plain": [
       "<Figure size 432x288 with 1 Axes>"
      ]
     },
     "metadata": {
      "needs_background": "light"
     },
     "output_type": "display_data"
    }
   ],
   "source": [
    "sns.countplot(x=\"class\", data=df_train)"
   ]
  },
  {
   "cell_type": "markdown",
   "metadata": {},
   "source": [
    "# new variables -- timeInBetween, numberUse\n",
    "##### signup_time-purchase_time is already calculated hence renamed as timeInBetween, similarly N[device_id] renamed as numberUse"
   ]
  },
  {
   "cell_type": "code",
   "execution_count": 19,
   "metadata": {},
   "outputs": [
    {
     "data": {
      "text/html": [
       "<div>\n",
       "<style scoped>\n",
       "    .dataframe tbody tr th:only-of-type {\n",
       "        vertical-align: middle;\n",
       "    }\n",
       "\n",
       "    .dataframe tbody tr th {\n",
       "        vertical-align: top;\n",
       "    }\n",
       "\n",
       "    .dataframe thead th {\n",
       "        text-align: right;\n",
       "    }\n",
       "</style>\n",
       "<table border=\"1\" class=\"dataframe\">\n",
       "  <thead>\n",
       "    <tr style=\"text-align: right;\">\n",
       "      <th></th>\n",
       "      <th>user_id</th>\n",
       "      <th>signup_time</th>\n",
       "      <th>purchase_time</th>\n",
       "      <th>timeInBetween</th>\n",
       "      <th>purchase_value</th>\n",
       "      <th>device_id</th>\n",
       "      <th>source</th>\n",
       "      <th>browser</th>\n",
       "      <th>sex</th>\n",
       "      <th>age</th>\n",
       "      <th>ip_address</th>\n",
       "      <th>numberUse</th>\n",
       "    </tr>\n",
       "  </thead>\n",
       "  <tbody>\n",
       "    <tr>\n",
       "      <th>0</th>\n",
       "      <td>285108</td>\n",
       "      <td>07/15/2015 4:36 AM</td>\n",
       "      <td>09/10/2015 2:17 PM</td>\n",
       "      <td>82661</td>\n",
       "      <td>31</td>\n",
       "      <td>HZAKVUFTDOSFD</td>\n",
       "      <td>Direct</td>\n",
       "      <td>Chrome</td>\n",
       "      <td>M</td>\n",
       "      <td>49</td>\n",
       "      <td>2.818400e+09</td>\n",
       "      <td>2</td>\n",
       "    </tr>\n",
       "    <tr>\n",
       "      <th>1</th>\n",
       "      <td>229053</td>\n",
       "      <td>01/07/2015 1:19 PM</td>\n",
       "      <td>01/09/2015 10:12 AM</td>\n",
       "      <td>2693</td>\n",
       "      <td>29</td>\n",
       "      <td>MFFIHYNXCJLEY</td>\n",
       "      <td>SEO</td>\n",
       "      <td>Chrome</td>\n",
       "      <td>M</td>\n",
       "      <td>34</td>\n",
       "      <td>2.083420e+09</td>\n",
       "      <td>1</td>\n",
       "    </tr>\n",
       "    <tr>\n",
       "      <th>2</th>\n",
       "      <td>108439</td>\n",
       "      <td>02/08/2015 9:11 PM</td>\n",
       "      <td>04/09/2015 2:26 PM</td>\n",
       "      <td>85995</td>\n",
       "      <td>26</td>\n",
       "      <td>WMSXWGVPNIFBM</td>\n",
       "      <td>Ads</td>\n",
       "      <td>FireFox</td>\n",
       "      <td>M</td>\n",
       "      <td>33</td>\n",
       "      <td>3.207913e+09</td>\n",
       "      <td>1</td>\n",
       "    </tr>\n",
       "    <tr>\n",
       "      <th>3</th>\n",
       "      <td>178528</td>\n",
       "      <td>04/20/2015 8:19 PM</td>\n",
       "      <td>08/03/2015 8:17 PM</td>\n",
       "      <td>151198</td>\n",
       "      <td>35</td>\n",
       "      <td>HUFZWLDYJPRCK</td>\n",
       "      <td>SEO</td>\n",
       "      <td>Chrome</td>\n",
       "      <td>F</td>\n",
       "      <td>30</td>\n",
       "      <td>2.550204e+09</td>\n",
       "      <td>1</td>\n",
       "    </tr>\n",
       "    <tr>\n",
       "      <th>4</th>\n",
       "      <td>70424</td>\n",
       "      <td>07/05/2015 4:54 PM</td>\n",
       "      <td>08/25/2015 4:08 PM</td>\n",
       "      <td>73394</td>\n",
       "      <td>43</td>\n",
       "      <td>YDLNPVEWMTMMZ</td>\n",
       "      <td>Direct</td>\n",
       "      <td>IE</td>\n",
       "      <td>M</td>\n",
       "      <td>40</td>\n",
       "      <td>3.310808e+09</td>\n",
       "      <td>1</td>\n",
       "    </tr>\n",
       "  </tbody>\n",
       "</table>\n",
       "</div>"
      ],
      "text/plain": [
       "   user_id         signup_time        purchase_time  timeInBetween  \\\n",
       "0   285108  07/15/2015 4:36 AM   09/10/2015 2:17 PM          82661   \n",
       "1   229053  01/07/2015 1:19 PM  01/09/2015 10:12 AM           2693   \n",
       "2   108439  02/08/2015 9:11 PM   04/09/2015 2:26 PM          85995   \n",
       "3   178528  04/20/2015 8:19 PM   08/03/2015 8:17 PM         151198   \n",
       "4    70424  07/05/2015 4:54 PM   08/25/2015 4:08 PM          73394   \n",
       "\n",
       "   purchase_value      device_id  source  browser sex  age    ip_address  \\\n",
       "0              31  HZAKVUFTDOSFD  Direct   Chrome   M   49  2.818400e+09   \n",
       "1              29  MFFIHYNXCJLEY     SEO   Chrome   M   34  2.083420e+09   \n",
       "2              26  WMSXWGVPNIFBM     Ads  FireFox   M   33  3.207913e+09   \n",
       "3              35  HUFZWLDYJPRCK     SEO   Chrome   F   30  2.550204e+09   \n",
       "4              43  YDLNPVEWMTMMZ  Direct       IE   M   40  3.310808e+09   \n",
       "\n",
       "   numberUse  \n",
       "0          2  \n",
       "1          1  \n",
       "2          1  \n",
       "3          1  \n",
       "4          1  "
      ]
     },
     "execution_count": 19,
     "metadata": {},
     "output_type": "execute_result"
    }
   ],
   "source": [
    "#Rename Columns names for this section\n",
    "X.rename(columns={'N[device_id]':'numberUse'},inplace=True)\n",
    "X.rename(columns={'signup_time-purchase_time':'timeInBetween'},inplace=True)\n",
    "X.head()"
   ]
  },
  {
   "cell_type": "markdown",
   "metadata": {},
   "source": [
    "##### Handling Object Data for training "
   ]
  },
  {
   "cell_type": "code",
   "execution_count": 20,
   "metadata": {
    "_kg_hide-output": true
   },
   "outputs": [],
   "source": [
    "# removing not necessary Columns\n",
    "X.drop(['device_id','signup_time','purchase_time','ip_address'],inplace = True, axis ='columns')"
   ]
  },
  {
   "cell_type": "code",
   "execution_count": 21,
   "metadata": {},
   "outputs": [],
   "source": [
    "#Define the transformation function using columnTransformer, OHE and StandardScaler\n",
    "def transform(categorical_columns,numerical_columns,df):\n",
    "    cat = ('categorical', ohe() , categorical_columns  )\n",
    "    num = ('numeric', ss(), numerical_columns)\n",
    "    col_trans = ColumnTransformer([cat, num])\n",
    "    #col_trans.fit(df)\n",
    "    df_trans_scaled = col_trans.fit_transform(df)\n",
    "    return df_trans_scaled"
   ]
  },
  {
   "cell_type": "code",
   "execution_count": 22,
   "metadata": {
    "scrolled": true
   },
   "outputs": [
    {
     "data": {
      "text/plain": [
       "['source_Direct',\n",
       " 'source_SEO',\n",
       " 'source_Ads',\n",
       " 'browser_Chrome',\n",
       " 'browser_FireFox',\n",
       " 'browser_IE',\n",
       " 'browser_Safari',\n",
       " 'browser_Opera',\n",
       " 'sex_M',\n",
       " 'sex_F',\n",
       " 'timeInBetween',\n",
       " 'purchase_value',\n",
       " 'age',\n",
       " 'numberUse']"
      ]
     },
     "execution_count": 22,
     "metadata": {},
     "output_type": "execute_result"
    }
   ],
   "source": [
    "#Define the columns for transformations\n",
    "categorical_columns = ['source', 'browser','sex']\n",
    "numerical_columns = ['timeInBetween', 'purchase_value','age','numberUse']\n",
    "#Define the columns for post transformation dataframe - makes referencing and understanding easier\n",
    "columns = ['source_Direct','source_SEO','source_Ads','browser_Chrome','browser_FireFox','browser_IE','browser_Safari','browser_Opera','sex_M','sex_F'] + numerical_columns\n",
    "columns"
   ]
  },
  {
   "cell_type": "code",
   "execution_count": 23,
   "metadata": {},
   "outputs": [
    {
     "name": "stderr",
     "output_type": "stream",
     "text": [
      "C:\\ProgramData\\Anaconda3\\lib\\site-packages\\sklearn\\preprocessing\\data.py:645: DataConversionWarning: Data with input dtype int64 were all converted to float64 by StandardScaler.\n",
      "  return self.partial_fit(X, y)\n",
      "C:\\ProgramData\\Anaconda3\\lib\\site-packages\\sklearn\\base.py:464: DataConversionWarning: Data with input dtype int64 were all converted to float64 by StandardScaler.\n",
      "  return self.fit(X, **fit_params).transform(X)\n"
     ]
    }
   ],
   "source": [
    "X_ts =transform(categorical_columns, numerical_columns, X)"
   ]
  },
  {
   "cell_type": "code",
   "execution_count": 24,
   "metadata": {},
   "outputs": [
    {
     "name": "stdout",
     "output_type": "stream",
     "text": [
      "source_Direct      float64\n",
      "source_SEO         float64\n",
      "source_Ads         float64\n",
      "browser_Chrome     float64\n",
      "browser_FireFox    float64\n",
      "browser_IE         float64\n",
      "browser_Safari     float64\n",
      "browser_Opera      float64\n",
      "sex_M              float64\n",
      "sex_F              float64\n",
      "timeInBetween      float64\n",
      "purchase_value     float64\n",
      "age                float64\n",
      "numberUse          float64\n",
      "dtype: object \n",
      " (74691, 14) \n",
      "    source_Direct  source_SEO  source_Ads  browser_Chrome  browser_FireFox  \\\n",
      "0            0.0         1.0         0.0             1.0              0.0   \n",
      "1            0.0         0.0         1.0             1.0              0.0   \n",
      "2            1.0         0.0         0.0             0.0              1.0   \n",
      "3            0.0         0.0         1.0             1.0              0.0   \n",
      "4            0.0         1.0         0.0             0.0              0.0   \n",
      "\n",
      "   browser_IE  browser_Safari  browser_Opera  sex_M  sex_F  timeInBetween  \\\n",
      "0         0.0             0.0            0.0    0.0    1.0       0.009090   \n",
      "1         0.0             0.0            0.0    0.0    1.0      -1.525820   \n",
      "2         0.0             0.0            0.0    0.0    1.0       0.073083   \n",
      "3         0.0             0.0            0.0    1.0    0.0       1.324593   \n",
      "4         1.0             0.0            0.0    0.0    1.0      -0.168781   \n",
      "\n",
      "   purchase_value       age  numberUse  \n",
      "0       -0.320634  1.835765   0.223419  \n",
      "1       -0.429593  0.099640  -0.257486  \n",
      "2       -0.593031 -0.016102  -0.257486  \n",
      "3       -0.102717 -0.363327  -0.257486  \n",
      "4        0.333118  0.794090  -0.257486  \n"
     ]
    }
   ],
   "source": [
    "X_ts = pd.DataFrame(X_ts, index=X.index, columns=columns)\n",
    "print (X_ts.dtypes,\"\\n\",X_ts.shape, \"\\n\", X_ts.head())"
   ]
  },
  {
   "cell_type": "code",
   "execution_count": 25,
   "metadata": {},
   "outputs": [
    {
     "data": {
      "text/plain": [
       "(pandas.core.frame.DataFrame,    class\n",
       " 0      0\n",
       " 1      0\n",
       " 2      0\n",
       " 3      0\n",
       " 4      0)"
      ]
     },
     "execution_count": 25,
     "metadata": {},
     "output_type": "execute_result"
    }
   ],
   "source": [
    "y=pd.DataFrame(y)\n",
    "type(y),y.head()"
   ]
  },
  {
   "cell_type": "markdown",
   "metadata": {},
   "source": [
    "### Split Data in Training and Test Data set"
   ]
  },
  {
   "cell_type": "code",
   "execution_count": 26,
   "metadata": {},
   "outputs": [
    {
     "name": "stdout",
     "output_type": "stream",
     "text": [
      "X_train: shape =  (67221, 14) X_test Shape =  (7470, 14) Y_train Sample data : (67221, 1)  Y_test sample date = (7470, 1)\n"
     ]
    }
   ],
   "source": [
    "#Split Data in Test_Train Set to start Modelling\n",
    "X_train, X_test, y_train, y_test,indicies_tr,indicies_test = train_test_split(X_ts,y,np.arange(X_ts.shape[0]),test_size = 0.1,random_state=42)\n",
    "print(\"X_train: shape = \",X_train.shape,\"X_test Shape = \",X_test.shape,\"Y_train Sample data :\",y_train.shape,\" Y_test sample date =\",y_test.shape)"
   ]
  },
  {
   "cell_type": "markdown",
   "metadata": {},
   "source": [
    "#### To check balance of data"
   ]
  },
  {
   "cell_type": "code",
   "execution_count": 27,
   "metadata": {},
   "outputs": [
    {
     "data": {
      "text/plain": [
       "class    0.093587\n",
       "dtype: float64"
      ]
     },
     "execution_count": 27,
     "metadata": {},
     "output_type": "execute_result"
    }
   ],
   "source": [
    "Y_bal=np.sum(y_train)/len(y_train)\n",
    "Y_bal"
   ]
  },
  {
   "cell_type": "markdown",
   "metadata": {},
   "source": [
    "### The data is highly Imbalanced, SMOTE is being used to balance the Training data"
   ]
  },
  {
   "cell_type": "code",
   "execution_count": 28,
   "metadata": {},
   "outputs": [],
   "source": [
    "sm = SMOTE(random_state=42)\n",
    "X_balance, y_res = sm.fit_resample(X_train,np.asarray(y_train).ravel())"
   ]
  },
  {
   "cell_type": "code",
   "execution_count": 29,
   "metadata": {},
   "outputs": [
    {
     "name": "stdout",
     "output_type": "stream",
     "text": [
      "The data is 0.5 imbalance. which was eralier : class    0.093587\n",
      "dtype: float64\n"
     ]
    },
    {
     "data": {
      "text/plain": [
       "((121860, 14), numpy.ndarray, numpy.ndarray)"
      ]
     },
     "execution_count": 29,
     "metadata": {},
     "output_type": "execute_result"
    }
   ],
   "source": [
    "print(\"The data is\", (np.sum(y_res)/len(y_res)), \"imbalance. which was eralier :\", Y_bal)\n",
    "X_balance.shape,type(X_balance),type(y_res)"
   ]
  },
  {
   "cell_type": "code",
   "execution_count": 30,
   "metadata": {},
   "outputs": [
    {
     "data": {
      "text/plain": [
       "(numpy.ndarray,\n",
       " pandas.core.frame.DataFrame,\n",
       " numpy.ndarray,\n",
       " (121860,),\n",
       " (7470, 1),\n",
       "        class\n",
       " 16790      0\n",
       " 30274      0\n",
       " 71806      0\n",
       " 64580      0,\n",
       " array([0, 1, 0, 1], dtype=int64))"
      ]
     },
     "execution_count": 30,
     "metadata": {},
     "output_type": "execute_result"
    }
   ],
   "source": [
    "#X_balance=pd.DataFrame(X_balance)\n",
    "#y_res =pd.DataFrame(y_res)\n",
    "#y_test=pd.DataFrame(y_test)\n",
    "type(y_res),type(y_test),type(X_balance),y_res.shape,y_test.shape,y_test[:4],y_res[:4]"
   ]
  },
  {
   "cell_type": "code",
   "execution_count": 31,
   "metadata": {},
   "outputs": [
    {
     "data": {
      "text/plain": [
       "16790    19\n",
       "30274    14\n",
       "71806    32\n",
       "64580    27\n",
       "63643    14\n",
       "Name: purchase_value, dtype: int64"
      ]
     },
     "execution_count": 31,
     "metadata": {},
     "output_type": "execute_result"
    }
   ],
   "source": [
    "#Generate the image of test dataset pre-split using indicies_test.\n",
    "#This will be used to capture the unscaled values of purchase_value for computing cost of model\n",
    "X_Cost = df_train.iloc[indicies_test]\n",
    "X_Cost.purchase_value.head()"
   ]
  },
  {
   "cell_type": "code",
   "execution_count": 32,
   "metadata": {},
   "outputs": [],
   "source": [
    "def modelCost(test,out,df):\n",
    "    #falsePositive: Cost is $8*count\n",
    "    #non-fraudulent transactions (test '0') predicted as fraudulent by model (out '1')\n",
    "    falsePositiveCost = df.purchase_value[(test==0) & (out==1)].count()*8\n",
    "    print(\"falsePositive {:.0f}\".format(df.purchase_value[(test==0) & (out==1)].count()))\n",
    "    print(\"falsePositiveCost ${:.0f}\".format(falsePositiveCost))\n",
    "    #falseNegative: Cost is sum of purchase_value\n",
    "    #fraudulent transactions (test '1') predicted as non-fraudulent by model (out '0')\n",
    "    falseNegativeCost = df.purchase_value[(test==1) & (out==0)].sum()\n",
    "    print(\"falseNegative {:.0f}\".format(df.purchase_value[(test==1) & (out==0)].count()))\n",
    "    print(\"falseNegativeCost ${:.0f}\".format(falseNegativeCost))\n",
    "    totalCost = falsePositiveCost + falseNegativeCost\n",
    "    print(\"totalCost ${:.0f}\".format(totalCost))\n",
    "    return totalCost"
   ]
  },
  {
   "cell_type": "code",
   "execution_count": 34,
   "metadata": {},
   "outputs": [],
   "source": [
    "from mlxtend.plotting import plot_confusion_matrix\n",
    "def confusion_matrix_1(f):\n",
    "    fig, ax = plot_confusion_matrix(conf_mat=f)\n",
    "    plt.title(\"The Confusion Matrix Graph for \")\n",
    "    plt.ylabel(\"Actual\")\n",
    "    plt.xlabel(\"Predicted\")\n",
    "    plt.show()\n",
    "    print(\"The accuracy is \"+str((f[1,1]+f[0,0])/(f[0,0] + f[0,1]+f[1,0] + f[1,1])*100)+ \" %.\")\n",
    "    print(\"The recall from the confusion matrix is \"+ str(f[1,1]/(f[1,0] + f[1,1])*100)+ \" %.\")\n",
    "    print(\"The Precision from the confusion matrix is \"+ str(f[1,1]/(f[0,1] + f[1,1])*100)+ \" %.\")"
   ]
  },
  {
   "cell_type": "markdown",
   "metadata": {},
   "source": [
    "### start building models with Below Parameters :\n",
    "#### Training Data set : X_balance  and y_res\n",
    "#### Model Testing Data set : X_test,y_test"
   ]
  },
  {
   "cell_type": "code",
   "execution_count": 35,
   "metadata": {},
   "outputs": [],
   "source": [
    "# set a seed for reproducibility\n",
    "np.random.seed(3123)"
   ]
  },
  {
   "cell_type": "markdown",
   "metadata": {},
   "source": [
    "### Model-1: LogisticRegression"
   ]
  },
  {
   "cell_type": "code",
   "execution_count": 36,
   "metadata": {},
   "outputs": [
    {
     "name": "stderr",
     "output_type": "stream",
     "text": [
      "C:\\ProgramData\\Anaconda3\\lib\\site-packages\\sklearn\\linear_model\\logistic.py:433: FutureWarning: Default solver will be changed to 'lbfgs' in 0.22. Specify a solver to silence this warning.\n",
      "  FutureWarning)\n"
     ]
    },
    {
     "data": {
      "text/plain": [
       "0.4566035270690918"
      ]
     },
     "execution_count": 36,
     "metadata": {},
     "output_type": "execute_result"
    }
   ],
   "source": [
    "#Running basic regression first to setup all checking and evaluation functions\n",
    "log_reg = LogisticRegression(random_state=42)\n",
    "start = time.time()\n",
    "log_reg.fit(X_balance,y_res.ravel())\n",
    "end = time.time()\n",
    "(end - start) #0.31 seconds"
   ]
  },
  {
   "cell_type": "code",
   "execution_count": 37,
   "metadata": {},
   "outputs": [
    {
     "data": {
      "text/plain": [
       "0.9163319946452476"
      ]
     },
     "execution_count": 37,
     "metadata": {},
     "output_type": "execute_result"
    }
   ],
   "source": [
    "out_LR = log_reg.predict(X_test)\n",
    "log_reg.score(X_test, y_test) "
   ]
  },
  {
   "cell_type": "code",
   "execution_count": 38,
   "metadata": {},
   "outputs": [
    {
     "data": {
      "text/plain": [
       "(6365, 389, 236, 480)"
      ]
     },
     "execution_count": 38,
     "metadata": {},
     "output_type": "execute_result"
    }
   ],
   "source": [
    "f_lr  = confusion_matrix( y_test, out_LR )\n",
    "f_lr\n",
    "# 19.2 Flatten 'f' now\n",
    "tp,fp,fn,tn = f_lr.ravel()\n",
    "tp,fp,fn,tn"
   ]
  },
  {
   "cell_type": "code",
   "execution_count": 39,
   "metadata": {},
   "outputs": [
    {
     "data": {
      "image/png": "[encoded data removed]",
      "text/plain": [
       "<Figure size 432x288 with 1 Axes>"
      ]
     },
     "metadata": {
      "needs_background": "light"
     },
     "output_type": "display_data"
    },
    {
     "name": "stdout",
     "output_type": "stream",
     "text": [
      "The accuracy is 91.63319946452476 %.\n",
      "The recall from the confusion matrix is 67.0391061452514 %.\n",
      "The Precision from the confusion matrix is 55.235903337169155 %.\n"
     ]
    }
   ],
   "source": [
    "confusion_matrix_1(f_lr)"
   ]
  },
  {
   "cell_type": "code",
   "execution_count": 40,
   "metadata": {},
   "outputs": [
    {
     "data": {
      "text/plain": [
       "((7470,), (7470,))"
      ]
     },
     "execution_count": 40,
     "metadata": {},
     "output_type": "execute_result"
    }
   ],
   "source": [
    "#Proessing y_test for calculating cost\n",
    "y_test=np.asarray(y_test)\n",
    "y_test=np.reshape(y_test,len(y_test),)\n",
    "y_test.shape,out_LR.shape"
   ]
  },
  {
   "cell_type": "code",
   "execution_count": 41,
   "metadata": {},
   "outputs": [
    {
     "name": "stdout",
     "output_type": "stream",
     "text": [
      "falsePositive 389\n",
      "falsePositiveCost $3112\n",
      "falseNegative 236\n",
      "falseNegativeCost $9126\n",
      "totalCost $12238\n"
     ]
    }
   ],
   "source": [
    "# Total cost to be paid for this prediction\n",
    "totalCost_lr = modelCost(y_test,out_LR,X_Cost)"
   ]
  },
  {
   "cell_type": "markdown",
   "metadata": {},
   "source": [
    "###  Model -2: Decision Tree"
   ]
  },
  {
   "cell_type": "code",
   "execution_count": 42,
   "metadata": {},
   "outputs": [],
   "source": [
    "ct = dt( criterion=\"gini\",    # Alternative 'entropy'\n",
    "         splitter=\"best\",     # Alternative 'random'\n",
    "         max_depth=None)\n",
    "# 3.2 Train our decision tree\n",
    "c_tree = ct.fit(X_balance, y_res)"
   ]
  },
  {
   "cell_type": "code",
   "execution_count": 43,
   "metadata": {},
   "outputs": [
    {
     "data": {
      "text/plain": [
       "1.0"
      ]
     },
     "execution_count": 43,
     "metadata": {},
     "output_type": "execute_result"
    }
   ],
   "source": [
    "# 4.2 Now make prediction\n",
    "out_DT = ct.predict(X_test)\n",
    "ct.score(X_test,out_DT) "
   ]
  },
  {
   "cell_type": "code",
   "execution_count": 44,
   "metadata": {},
   "outputs": [
    {
     "data": {
      "text/plain": [
       "((7470,), (7470,), numpy.ndarray, numpy.ndarray)"
      ]
     },
     "execution_count": 44,
     "metadata": {},
     "output_type": "execute_result"
    }
   ],
   "source": [
    "out_DT.shape,y_test.shape, type(out_DT),type(y_test)"
   ]
  },
  {
   "cell_type": "code",
   "execution_count": 45,
   "metadata": {
    "scrolled": true
   },
   "outputs": [
    {
     "name": "stdout",
     "output_type": "stream",
     "text": [
      "accuracy =  0.9107095046854083\n"
     ]
    }
   ],
   "source": [
    "# 4.3 Get accuracy\n",
    "accuracy_DT=np.sum(out_DT == y_test)/out_DT.size\n",
    "print(\"accuracy = \", (np.sum(out_DT == y_test)/out_DT.size))"
   ]
  },
  {
   "cell_type": "code",
   "execution_count": 46,
   "metadata": {},
   "outputs": [
    {
     "data": {
      "text/plain": [
       "(6374, 380, 287, 429)"
      ]
     },
     "execution_count": 46,
     "metadata": {},
     "output_type": "execute_result"
    }
   ],
   "source": [
    "#Calculating Confusion Matrix\n",
    "f_dt  = confusion_matrix( y_test, out_DT )\n",
    "f_dt\n",
    "# 19.2 Flatten 'f' now\n",
    "tp,fp,fn,tn = f_dt.ravel()\n",
    "tp,fp,fn,tn"
   ]
  },
  {
   "cell_type": "code",
   "execution_count": 47,
   "metadata": {},
   "outputs": [],
   "source": [
    "# 19.3 Evaluate precision/recall Parameters of Accuracy \n",
    "precision_dt = tp/(tp+fp)\n",
    "recall_dt = tp/(tp + fn)"
   ]
  },
  {
   "cell_type": "code",
   "execution_count": 48,
   "metadata": {
    "scrolled": true
   },
   "outputs": [
    {
     "data": {
      "image/png": "[encoded data removed]",
      "text/plain": [
       "<Figure size 432x288 with 1 Axes>"
      ]
     },
     "metadata": {
      "needs_background": "light"
     },
     "output_type": "display_data"
    },
    {
     "name": "stdout",
     "output_type": "stream",
     "text": [
      "The accuracy is 91.07095046854083 %.\n",
      "The recall from the confusion matrix is 59.91620111731844 %.\n",
      "The Precision from the confusion matrix is 53.02843016069221 %.\n"
     ]
    }
   ],
   "source": [
    "confusion_matrix_1(f_dt)"
   ]
  },
  {
   "cell_type": "code",
   "execution_count": 49,
   "metadata": {},
   "outputs": [
    {
     "name": "stdout",
     "output_type": "stream",
     "text": [
      "falsePositive 380\n",
      "falsePositiveCost $3040\n",
      "falseNegative 287\n",
      "falseNegativeCost $11023\n",
      "totalCost $14063\n"
     ]
    }
   ],
   "source": [
    "# Total cost to be paid for this prediction\n",
    "totalCost_DT = modelCost(y_test,out_DT,X_Cost)"
   ]
  },
  {
   "cell_type": "markdown",
   "metadata": {},
   "source": [
    "## XGBClassifier model with GridSearch Parameter Optimizer"
   ]
  },
  {
   "cell_type": "code",
   "execution_count": 50,
   "metadata": {},
   "outputs": [],
   "source": [
    "steps_xg = [('sts', ss() ),\n",
    "            ('pca', PCA()),\n",
    "            ('xg',  XGBClassifier(silent = False,\n",
    "                                  n_jobs=2)        # Specify other parameters here\n",
    "            )\n",
    "            ]\n",
    "pipe_xg = Pipeline(steps_xg)"
   ]
  },
  {
   "cell_type": "markdown",
   "metadata": {},
   "source": [
    "##### Parameters consideres here are already collected as Best Hyer Parameter from Bayesian Optimization."
   ]
  },
  {
   "cell_type": "code",
   "execution_count": 51,
   "metadata": {},
   "outputs": [],
   "source": [
    "parameters = {'xg__learning_rate':  [0.875], \t# can be anything from 0.02 to 0.8\n",
    "              'xg__n_estimators':   [206,207,215],  \t# can be from 100 to 300\n",
    "              'xg__max_depth':      [9,10], \t\t\t# which gives me best result\n",
    "              'pca__n_components' : [9]\t\t\t# how many N depth i want\n",
    "              }                               # Total: 2 * 2 * 2 * 2\n"
   ]
  },
  {
   "cell_type": "code",
   "execution_count": 52,
   "metadata": {},
   "outputs": [],
   "source": [
    "# Create Grid Search object first with all necessary prameters\n",
    "clf = GCV(pipe_xg,            # pipeline object\n",
    "          parameters,         # possible parameters\n",
    "          n_jobs = 5,         # USe parallel cpu threads\n",
    "          cv =5 ,             # No of folds => 2 means the data will be devided in 2 parts\n",
    "          verbose =2,         # Higher the value, more the verbosity\n",
    "          scoring = ['accuracy', 'roc_auc'],  # Metrics for performance\n",
    "          refit = 'roc_auc'   # Refitting final model on what parameters?\n",
    "          )"
   ]
  },
  {
   "cell_type": "code",
   "execution_count": 53,
   "metadata": {},
   "outputs": [
    {
     "name": "stdout",
     "output_type": "stream",
     "text": [
      "Fitting 5 folds for each of 6 candidates, totalling 30 fits\n"
     ]
    },
    {
     "name": "stderr",
     "output_type": "stream",
     "text": [
      "[Parallel(n_jobs=5)]: Using backend LokyBackend with 5 concurrent workers.\n",
      "[Parallel(n_jobs=5)]: Done  30 out of  30 | elapsed: 19.1min finished\n"
     ]
    },
    {
     "data": {
      "text/plain": [
       "20.397961390018462"
      ]
     },
     "execution_count": 53,
     "metadata": {},
     "output_type": "execute_result"
    }
   ],
   "source": [
    "#Start fitting data to pipeline\n",
    "start = time.time()\n",
    "clf.fit(X_balance, y_res.ravel())\n",
    "end = time.time()\n",
    "(end-start)/60"
   ]
  },
  {
   "cell_type": "code",
   "execution_count": 54,
   "metadata": {},
   "outputs": [],
   "source": [
    "#Start Prediction\n",
    "out_gs=clf.predict(X_test)"
   ]
  },
  {
   "cell_type": "code",
   "execution_count": 55,
   "metadata": {},
   "outputs": [
    {
     "data": {
      "text/plain": [
       "\"Best parameter set {'pca__n_components': 9, 'xg__learning_rate': 0.875, 'xg__max_depth': 10, 'xg__n_estimators': 215}\""
      ]
     },
     "execution_count": 55,
     "metadata": {},
     "output_type": "execute_result"
    }
   ],
   "source": [
    "#f\"Best score: {clf.best_score_}\"\n",
    "f\"Best parameter set {clf.best_params_}\""
   ]
  },
  {
   "cell_type": "code",
   "execution_count": 56,
   "metadata": {},
   "outputs": [
    {
     "name": "stdout",
     "output_type": "stream",
     "text": [
      "Test Data (7470,) Predicted Size (7470,)\n"
     ]
    }
   ],
   "source": [
    "print(\"Test Data\",y_test.shape, \"Predicted Size\",out_gs.shape)"
   ]
  },
  {
   "cell_type": "code",
   "execution_count": 57,
   "metadata": {},
   "outputs": [
    {
     "name": "stdout",
     "output_type": "stream",
     "text": [
      "GS Precions : 0.9437370447142434 GS Recall : 0.9569133763699145 accuracy =  0.8579651941097725\n"
     ]
    }
   ],
   "source": [
    "#Get Precision and Recall\n",
    "f_gs = confusion_matrix( y_test, out_gs )\n",
    "#tp,fp,fn,tn = f_gs\n",
    "tp,fp,fn,tn\n",
    "precision_gs = tp/(tp+fp)\n",
    "recall_gs = tp/(tp + fn)\n",
    "accuracy_gs = np.sum(out_gs == y_test)/out_gs.size\n",
    "print(\"GS Precions :\",precision_gs,\"GS Recall :\",recall_gs,\"accuracy = \", (np.sum(out_gs == y_test)/out_gs.size))"
   ]
  },
  {
   "cell_type": "code",
   "execution_count": 58,
   "metadata": {},
   "outputs": [
    {
     "data": {
      "image/png": "[encoded data removed]",
      "text/plain": [
       "<Figure size 432x288 with 1 Axes>"
      ]
     },
     "metadata": {
      "needs_background": "light"
     },
     "output_type": "display_data"
    },
    {
     "name": "stdout",
     "output_type": "stream",
     "text": [
      "The accuracy is 85.79651941097724 %.\n",
      "The recall from the confusion matrix is 59.357541899441344 %.\n",
      "The Precision from the confusion matrix is 35.56485355648535 %.\n",
      "falsePositive 770\n",
      "falsePositiveCost $6160\n",
      "falseNegative 291\n",
      "falseNegativeCost $11367\n",
      "totalCost $17527\n"
     ]
    }
   ],
   "source": [
    "confusion_matrix_1(f_gs)\n",
    "# Total cost to be paid for this prediction\n",
    "totalCost_GS = modelCost(y_test,out_gs,X_Cost)"
   ]
  },
  {
   "cell_type": "markdown",
   "metadata": {},
   "source": [
    "### Compare Cost coming from all of the above models"
   ]
  },
  {
   "cell_type": "code",
   "execution_count": 59,
   "metadata": {},
   "outputs": [
    {
     "data": {
      "text/plain": [
       "(12238, 14063, 17527)"
      ]
     },
     "execution_count": 59,
     "metadata": {},
     "output_type": "execute_result"
    }
   ],
   "source": [
    "totalCost_lr,totalCost_DT,totalCost_GS"
   ]
  },
  {
   "cell_type": "markdown",
   "metadata": {},
   "source": [
    "Now Predicting the fraudlant transactions on Test data with Model that is giving latest cost"
   ]
  },
  {
   "cell_type": "code",
   "execution_count": 60,
   "metadata": {},
   "outputs": [
    {
     "data": {
      "text/html": [
       "<div>\n",
       "<style scoped>\n",
       "    .dataframe tbody tr th:only-of-type {\n",
       "        vertical-align: middle;\n",
       "    }\n",
       "\n",
       "    .dataframe tbody tr th {\n",
       "        vertical-align: top;\n",
       "    }\n",
       "\n",
       "    .dataframe thead th {\n",
       "        text-align: right;\n",
       "    }\n",
       "</style>\n",
       "<table border=\"1\" class=\"dataframe\">\n",
       "  <thead>\n",
       "    <tr style=\"text-align: right;\">\n",
       "      <th></th>\n",
       "      <th>Column 1</th>\n",
       "      <th>user_id</th>\n",
       "      <th>signup_time</th>\n",
       "      <th>purchase_time</th>\n",
       "      <th>signup_time-purchase_time</th>\n",
       "      <th>purchase_value</th>\n",
       "      <th>device_id</th>\n",
       "      <th>source</th>\n",
       "      <th>browser</th>\n",
       "      <th>sex</th>\n",
       "      <th>age</th>\n",
       "      <th>ip_address</th>\n",
       "      <th>N[device_id]</th>\n",
       "    </tr>\n",
       "  </thead>\n",
       "  <tbody>\n",
       "    <tr>\n",
       "      <th>0</th>\n",
       "      <td>73178</td>\n",
       "      <td>328855</td>\n",
       "      <td>03/11/2015 12:54 AM</td>\n",
       "      <td>04/05/2015 12:23 PM</td>\n",
       "      <td>36689</td>\n",
       "      <td>16</td>\n",
       "      <td>VCCTAYDCWKZIY</td>\n",
       "      <td>Direct</td>\n",
       "      <td>IE</td>\n",
       "      <td>M</td>\n",
       "      <td>26</td>\n",
       "      <td>2.727760e+09</td>\n",
       "      <td>1</td>\n",
       "    </tr>\n",
       "    <tr>\n",
       "      <th>1</th>\n",
       "      <td>63154</td>\n",
       "      <td>328496</td>\n",
       "      <td>07/23/2015 12:48 PM</td>\n",
       "      <td>10/20/2015 1:01 PM</td>\n",
       "      <td>128173</td>\n",
       "      <td>40</td>\n",
       "      <td>HTOCRWCBYIQJI</td>\n",
       "      <td>Ads</td>\n",
       "      <td>Safari</td>\n",
       "      <td>M</td>\n",
       "      <td>33</td>\n",
       "      <td>2.185371e+09</td>\n",
       "      <td>1</td>\n",
       "    </tr>\n",
       "    <tr>\n",
       "      <th>2</th>\n",
       "      <td>45469</td>\n",
       "      <td>97677</td>\n",
       "      <td>05/11/2015 2:28 AM</td>\n",
       "      <td>07/20/2015 9:37 PM</td>\n",
       "      <td>101949</td>\n",
       "      <td>79</td>\n",
       "      <td>GNVLAANUJMKFC</td>\n",
       "      <td>SEO</td>\n",
       "      <td>Chrome</td>\n",
       "      <td>F</td>\n",
       "      <td>27</td>\n",
       "      <td>2.821272e+09</td>\n",
       "      <td>2</td>\n",
       "    </tr>\n",
       "    <tr>\n",
       "      <th>3</th>\n",
       "      <td>64425</td>\n",
       "      <td>272080</td>\n",
       "      <td>06/23/2015 12:15 PM</td>\n",
       "      <td>08/26/2015 1:42 AM</td>\n",
       "      <td>91527</td>\n",
       "      <td>40</td>\n",
       "      <td>NBCCGOYVYSVAV</td>\n",
       "      <td>SEO</td>\n",
       "      <td>FireFox</td>\n",
       "      <td>M</td>\n",
       "      <td>20</td>\n",
       "      <td>1.074954e+09</td>\n",
       "      <td>1</td>\n",
       "    </tr>\n",
       "    <tr>\n",
       "      <th>4</th>\n",
       "      <td>125042</td>\n",
       "      <td>341169</td>\n",
       "      <td>03/08/2015 1:08 PM</td>\n",
       "      <td>05/15/2015 6:48 AM</td>\n",
       "      <td>97540</td>\n",
       "      <td>43</td>\n",
       "      <td>YQWZFJBVAAGEI</td>\n",
       "      <td>SEO</td>\n",
       "      <td>IE</td>\n",
       "      <td>M</td>\n",
       "      <td>40</td>\n",
       "      <td>2.981257e+09</td>\n",
       "      <td>1</td>\n",
       "    </tr>\n",
       "  </tbody>\n",
       "</table>\n",
       "</div>"
      ],
      "text/plain": [
       "   Column 1  user_id          signup_time        purchase_time  \\\n",
       "0     73178   328855  03/11/2015 12:54 AM  04/05/2015 12:23 PM   \n",
       "1     63154   328496  07/23/2015 12:48 PM   10/20/2015 1:01 PM   \n",
       "2     45469    97677   05/11/2015 2:28 AM   07/20/2015 9:37 PM   \n",
       "3     64425   272080  06/23/2015 12:15 PM   08/26/2015 1:42 AM   \n",
       "4    125042   341169   03/08/2015 1:08 PM   05/15/2015 6:48 AM   \n",
       "\n",
       "   signup_time-purchase_time  purchase_value      device_id  source  browser  \\\n",
       "0                      36689              16  VCCTAYDCWKZIY  Direct       IE   \n",
       "1                     128173              40  HTOCRWCBYIQJI     Ads   Safari   \n",
       "2                     101949              79  GNVLAANUJMKFC     SEO   Chrome   \n",
       "3                      91527              40  NBCCGOYVYSVAV     SEO  FireFox   \n",
       "4                      97540              43  YQWZFJBVAAGEI     SEO       IE   \n",
       "\n",
       "  sex  age    ip_address  N[device_id]  \n",
       "0   M   26  2.727760e+09             1  \n",
       "1   M   33  2.185371e+09             1  \n",
       "2   F   27  2.821272e+09             2  \n",
       "3   M   20  1.074954e+09             1  \n",
       "4   M   40  2.981257e+09             1  "
      ]
     },
     "execution_count": 60,
     "metadata": {},
     "output_type": "execute_result"
    }
   ],
   "source": [
    "# Read the test data file\n",
    "df_test=pd.read_csv(\"datasetForFinalTest.csv\")\n",
    "df_test.head()"
   ]
  },
  {
   "cell_type": "code",
   "execution_count": 61,
   "metadata": {},
   "outputs": [
    {
     "data": {
      "text/plain": [
       "pandas.core.frame.DataFrame"
      ]
     },
     "execution_count": 61,
     "metadata": {},
     "output_type": "execute_result"
    }
   ],
   "source": [
    "X_test=pd.DataFrame(df_test)\n",
    "#Processing Data so that data file is ready for Predicting in Model.\n",
    "X_test=X_test.drop(['Column 1','device_id','signup_time','purchase_time','ip_address'],inplace = True, axis =1)\n",
    "X_test=pd.DataFrame(X_test)\n",
    "type(X_test)"
   ]
  },
  {
   "cell_type": "code",
   "execution_count": 62,
   "metadata": {},
   "outputs": [
    {
     "data": {
      "text/plain": [
       "['source_Direct',\n",
       " 'source_SEO',\n",
       " 'source_Ads',\n",
       " 'browser_Chrome',\n",
       " 'browser_FireFox',\n",
       " 'browser_IE',\n",
       " 'browser_Safari',\n",
       " 'browser_Opera',\n",
       " 'sex_M',\n",
       " 'sex_F',\n",
       " 'signup_time-purchase_time',\n",
       " 'purchase_value',\n",
       " 'age',\n",
       " 'N[device_id]']"
      ]
     },
     "execution_count": 62,
     "metadata": {},
     "output_type": "execute_result"
    }
   ],
   "source": [
    "#Define the transformation function using columnTransformer, OHE and StandardScaler\n",
    "def transform(categorical_columns,numerical_columns,df):\n",
    "    cat = ('categorical', ohe() , categorical_columns  )\n",
    "    num = ('numeric', ss(), numerical_columns)\n",
    "    col_trans = ColumnTransformer([cat, num])\n",
    "    df_trans_scaled = col_trans.fit_transform(df)\n",
    "    return df_trans_scaled\n",
    "\n",
    "#Define the columns for transformations\n",
    "categorical_columns = ['source', 'browser','sex']\n",
    "numerical_columns = ['signup_time-purchase_time', 'purchase_value','age','N[device_id]']\n",
    "#Define the columns for post transformation dataframe - makes referencing and understanding easier\n",
    "columns = ['source_Direct','source_SEO','source_Ads','browser_Chrome','browser_FireFox','browser_IE','browser_Safari','browser_Opera','sex_M','sex_F'] + numerical_columns\n",
    "columns"
   ]
  },
  {
   "cell_type": "code",
   "execution_count": 63,
   "metadata": {},
   "outputs": [
    {
     "name": "stderr",
     "output_type": "stream",
     "text": [
      "C:\\ProgramData\\Anaconda3\\lib\\site-packages\\sklearn\\preprocessing\\data.py:645: DataConversionWarning: Data with input dtype int64 were all converted to float64 by StandardScaler.\n",
      "  return self.partial_fit(X, y)\n",
      "C:\\ProgramData\\Anaconda3\\lib\\site-packages\\sklearn\\base.py:464: DataConversionWarning: Data with input dtype int64 were all converted to float64 by StandardScaler.\n",
      "  return self.fit(X, **fit_params).transform(X)\n"
     ]
    },
    {
     "data": {
      "text/plain": [
       "(13413, 14)"
      ]
     },
     "execution_count": 63,
     "metadata": {},
     "output_type": "execute_result"
    }
   ],
   "source": [
    "#Rename Columns names for this section\n",
    "X_test_ts =transform(categorical_columns,numerical_columns,df_test)\n",
    "X_test_ts.shape"
   ]
  },
  {
   "cell_type": "code",
   "execution_count": 64,
   "metadata": {},
   "outputs": [],
   "source": [
    "#Prediction on the Test Data set\n",
    "Y_predi = log_reg.predict(X_test_ts)"
   ]
  },
  {
   "cell_type": "code",
   "execution_count": 65,
   "metadata": {},
   "outputs": [
    {
     "data": {
      "text/plain": [
       "(   0\n",
       " 0  0\n",
       " 1  0\n",
       " 2  1\n",
       " 3  0\n",
       " 4  0, (13413, 1))"
      ]
     },
     "execution_count": 65,
     "metadata": {},
     "output_type": "execute_result"
    }
   ],
   "source": [
    "Y_prediction=pd.DataFrame(Y_predi)\n",
    "Y_prediction.head(), Y_prediction.shape"
   ]
  },
  {
   "cell_type": "code",
   "execution_count": 66,
   "metadata": {},
   "outputs": [],
   "source": [
    "Final_Output = pd.concat([df_test, Y_prediction], axis=1)"
   ]
  },
  {
   "cell_type": "code",
   "execution_count": 67,
   "metadata": {},
   "outputs": [
    {
     "data": {
      "text/html": [
       "<div>\n",
       "<style scoped>\n",
       "    .dataframe tbody tr th:only-of-type {\n",
       "        vertical-align: middle;\n",
       "    }\n",
       "\n",
       "    .dataframe tbody tr th {\n",
       "        vertical-align: top;\n",
       "    }\n",
       "\n",
       "    .dataframe thead th {\n",
       "        text-align: right;\n",
       "    }\n",
       "</style>\n",
       "<table border=\"1\" class=\"dataframe\">\n",
       "  <thead>\n",
       "    <tr style=\"text-align: right;\">\n",
       "      <th></th>\n",
       "      <th>Column 1</th>\n",
       "      <th>user_id</th>\n",
       "      <th>signup_time</th>\n",
       "      <th>purchase_time</th>\n",
       "      <th>signup_time-purchase_time</th>\n",
       "      <th>purchase_value</th>\n",
       "      <th>device_id</th>\n",
       "      <th>source</th>\n",
       "      <th>browser</th>\n",
       "      <th>sex</th>\n",
       "      <th>age</th>\n",
       "      <th>ip_address</th>\n",
       "      <th>N[device_id]</th>\n",
       "      <th>Prediction</th>\n",
       "    </tr>\n",
       "  </thead>\n",
       "  <tbody>\n",
       "    <tr>\n",
       "      <th>0</th>\n",
       "      <td>73178</td>\n",
       "      <td>328855</td>\n",
       "      <td>03/11/2015 12:54 AM</td>\n",
       "      <td>04/05/2015 12:23 PM</td>\n",
       "      <td>36689</td>\n",
       "      <td>16</td>\n",
       "      <td>VCCTAYDCWKZIY</td>\n",
       "      <td>Direct</td>\n",
       "      <td>IE</td>\n",
       "      <td>M</td>\n",
       "      <td>26</td>\n",
       "      <td>2.727760e+09</td>\n",
       "      <td>1</td>\n",
       "      <td>0</td>\n",
       "    </tr>\n",
       "    <tr>\n",
       "      <th>1</th>\n",
       "      <td>63154</td>\n",
       "      <td>328496</td>\n",
       "      <td>07/23/2015 12:48 PM</td>\n",
       "      <td>10/20/2015 1:01 PM</td>\n",
       "      <td>128173</td>\n",
       "      <td>40</td>\n",
       "      <td>HTOCRWCBYIQJI</td>\n",
       "      <td>Ads</td>\n",
       "      <td>Safari</td>\n",
       "      <td>M</td>\n",
       "      <td>33</td>\n",
       "      <td>2.185371e+09</td>\n",
       "      <td>1</td>\n",
       "      <td>0</td>\n",
       "    </tr>\n",
       "    <tr>\n",
       "      <th>2</th>\n",
       "      <td>45469</td>\n",
       "      <td>97677</td>\n",
       "      <td>05/11/2015 2:28 AM</td>\n",
       "      <td>07/20/2015 9:37 PM</td>\n",
       "      <td>101949</td>\n",
       "      <td>79</td>\n",
       "      <td>GNVLAANUJMKFC</td>\n",
       "      <td>SEO</td>\n",
       "      <td>Chrome</td>\n",
       "      <td>F</td>\n",
       "      <td>27</td>\n",
       "      <td>2.821272e+09</td>\n",
       "      <td>2</td>\n",
       "      <td>1</td>\n",
       "    </tr>\n",
       "    <tr>\n",
       "      <th>3</th>\n",
       "      <td>64425</td>\n",
       "      <td>272080</td>\n",
       "      <td>06/23/2015 12:15 PM</td>\n",
       "      <td>08/26/2015 1:42 AM</td>\n",
       "      <td>91527</td>\n",
       "      <td>40</td>\n",
       "      <td>NBCCGOYVYSVAV</td>\n",
       "      <td>SEO</td>\n",
       "      <td>FireFox</td>\n",
       "      <td>M</td>\n",
       "      <td>20</td>\n",
       "      <td>1.074954e+09</td>\n",
       "      <td>1</td>\n",
       "      <td>0</td>\n",
       "    </tr>\n",
       "    <tr>\n",
       "      <th>4</th>\n",
       "      <td>125042</td>\n",
       "      <td>341169</td>\n",
       "      <td>03/08/2015 1:08 PM</td>\n",
       "      <td>05/15/2015 6:48 AM</td>\n",
       "      <td>97540</td>\n",
       "      <td>43</td>\n",
       "      <td>YQWZFJBVAAGEI</td>\n",
       "      <td>SEO</td>\n",
       "      <td>IE</td>\n",
       "      <td>M</td>\n",
       "      <td>40</td>\n",
       "      <td>2.981257e+09</td>\n",
       "      <td>1</td>\n",
       "      <td>0</td>\n",
       "    </tr>\n",
       "  </tbody>\n",
       "</table>\n",
       "</div>"
      ],
      "text/plain": [
       "   Column 1  user_id          signup_time        purchase_time  \\\n",
       "0     73178   328855  03/11/2015 12:54 AM  04/05/2015 12:23 PM   \n",
       "1     63154   328496  07/23/2015 12:48 PM   10/20/2015 1:01 PM   \n",
       "2     45469    97677   05/11/2015 2:28 AM   07/20/2015 9:37 PM   \n",
       "3     64425   272080  06/23/2015 12:15 PM   08/26/2015 1:42 AM   \n",
       "4    125042   341169   03/08/2015 1:08 PM   05/15/2015 6:48 AM   \n",
       "\n",
       "   signup_time-purchase_time  purchase_value      device_id  source  browser  \\\n",
       "0                      36689              16  VCCTAYDCWKZIY  Direct       IE   \n",
       "1                     128173              40  HTOCRWCBYIQJI     Ads   Safari   \n",
       "2                     101949              79  GNVLAANUJMKFC     SEO   Chrome   \n",
       "3                      91527              40  NBCCGOYVYSVAV     SEO  FireFox   \n",
       "4                      97540              43  YQWZFJBVAAGEI     SEO       IE   \n",
       "\n",
       "  sex  age    ip_address  N[device_id]  Prediction  \n",
       "0   M   26  2.727760e+09             1           0  \n",
       "1   M   33  2.185371e+09             1           0  \n",
       "2   F   27  2.821272e+09             2           1  \n",
       "3   M   20  1.074954e+09             1           0  \n",
       "4   M   40  2.981257e+09             1           0  "
      ]
     },
     "execution_count": 67,
     "metadata": {},
     "output_type": "execute_result"
    }
   ],
   "source": [
    "Final_Output.rename(columns={0:'Prediction'},inplace=True)\n",
    "Final_Output.head()"
   ]
  },
  {
   "cell_type": "code",
   "execution_count": 68,
   "metadata": {},
   "outputs": [],
   "source": [
    "Final_Output.to_csv('Hemant_Result_tosubmit.csv')"
   ]
  }
 ],
 "metadata": {
  "kernelspec": {
   "display_name": "Python 3",
   "language": "python",
   "name": "python3"
  }
 },
 "nbformat": 4,
 "nbformat_minor": 1
}
