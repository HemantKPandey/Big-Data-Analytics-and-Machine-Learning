{
 "cells": [
  {
   "cell_type": "markdown",
   "metadata": {},
   "source": [
    "# Exploratory analysis of online transactions\n",
    "\n"
   ]
  },
  {
   "cell_type": "code",
   "execution_count": null,
   "metadata": {},
   "outputs": [],
   "source": []
  },
  {
   "cell_type": "markdown",
   "metadata": {},
   "source": [
    "Our client is an e-commerce site that sells wholesale electronics. You have been contracted to explore the dataset and identify whether a given transaction is fraudulent or not. You only have information about each user’s first transaction on the customer's website. If you fail to identify a fraudulent transaction, our client loses money equivalent to the price of the fraudulently purchased product. If you incorrectly flag a real transaction as fraudulent, it inconveniences the customers whose valid transactions are flagged.\n"
   ]
  },
  {
   "cell_type": "code",
   "execution_count": 1,
   "metadata": {},
   "outputs": [],
   "source": [
    "\n",
    "import matplotlib.pyplot as plt\n",
    "%matplotlib inline"
   ]
  },
  {
   "cell_type": "code",
   "execution_count": 2,
   "metadata": {},
   "outputs": [],
   "source": [
    "import numpy as np\n",
    "import pandas as pd\n",
    "\n"
   ]
  },
  {
   "cell_type": "markdown",
   "metadata": {},
   "source": [
    "\n",
    "##### *Q1*  -- Load the Dataset into a dataframe called transactions\n"
   ]
  },
  {
   "cell_type": "code",
   "execution_count": null,
   "metadata": {},
   "outputs": [],
   "source": [
    "Your code goes here "
   ]
  },
  {
   "cell_type": "markdown",
   "metadata": {},
   "source": [
    "Assuming Column 1 is the index from the original table, there are 10 features and a target value \"class\"; of these 10 features *user_id, device_id, source, browser, sex* are categorical values. Although a numerical value, IP adress is actually a categorical value that represents the user's location. *Age and purchase_value* are continuous variables. \n",
    "\n",
    "Interestingly, the dataset also contains information about the user's *signup_time* and *purchase_time*, having done some analysis in the past, the time in between purchase time and signup time has impact on the classification of transaction if its fraudulent or not.\n",
    "\n",
    "Let's create a new variable *timeBetween* to represent this time period in term sof seconds."
   ]
  },
  {
   "cell_type": "code",
   "execution_count": 33,
   "metadata": {},
   "outputs": [],
   "source": [
    "import datetime"
   ]
  },
  {
   "cell_type": "markdown",
   "metadata": {},
   "source": [
    "###### Q2 ---- Create a new column *timeBetween* as described above"
   ]
  },
  {
   "cell_type": "code",
   "execution_count": null,
   "metadata": {},
   "outputs": [],
   "source": [
    "Your code goes here "
   ]
  },
  {
   "cell_type": "markdown",
   "metadata": {},
   "source": [
    "Let's start getting familiar with our dataset to get an idea about the features (input variables) and the target variable."
   ]
  },
  {
   "cell_type": "markdown",
   "metadata": {},
   "source": [
    "## Input Variables\n",
    "\n",
    "### Continuous Variables"
   ]
  },
  {
   "cell_type": "code",
   "execution_count": 5,
   "metadata": {},
   "outputs": [
    {
     "name": "stdout",
     "output_type": "stream",
     "text": [
      "number of users:  120000\n",
      "number of devices:  110599\n"
     ]
    }
   ],
   "source": [
    "# Counts:\n",
    "numberOfUsers = len(transactions.user_id.unique())\n",
    "print('number of users: ', numberOfUsers)\n",
    "\n",
    "numberOfDevices = len(transactions.device_id.unique())\n",
    "print('number of devices: ', numberOfDevices)"
   ]
  },
  {
   "cell_type": "code",
   "execution_count": 6,
   "metadata": {},
   "outputs": [],
   "source": [
    "multipleUsers = transactions['device_id'].value_counts()"
   ]
  },
  {
   "cell_type": "code",
   "execution_count": 7,
   "metadata": {},
   "outputs": [
    {
     "data": {
      "text/plain": [
       "array([19, 17, 17, ...,  1,  1,  1], dtype=int64)"
      ]
     },
     "execution_count": 7,
     "metadata": {},
     "output_type": "execute_result"
    }
   ],
   "source": [
    "multipleUsers.values"
   ]
  },
  {
   "cell_type": "markdown",
   "metadata": {},
   "source": [
    "It looks like some devices were used more than once, this could have an impact on the type of transaction. Let's create a new feature (new column) to use notate how many times the same device was used. "
   ]
  },
  {
   "cell_type": "markdown",
   "metadata": {},
   "source": [
    "##### Q3 - Create a new column labeled *numberOfTimesDeviceUsed* to identify how many times teh same device is used to make purchases\n"
   ]
  },
  {
   "cell_type": "code",
   "execution_count": null,
   "metadata": {},
   "outputs": [],
   "source": [
    "Your code goes here "
   ]
  },
  {
   "cell_type": "markdown",
   "metadata": {},
   "source": [
    "##### Q4 -- Create a box plot of *numberOfTimesDeviceUsed* by the target variable *class*"
   ]
  },
  {
   "cell_type": "code",
   "execution_count": null,
   "metadata": {},
   "outputs": [],
   "source": [
    "Your code goes here "
   ]
  },
  {
   "cell_type": "markdown",
   "metadata": {
    "collapsed": true
   },
   "source": [
    "##### Q5 -- Create a box plot of *user_id* by the target variable *class*"
   ]
  },
  {
   "cell_type": "code",
   "execution_count": null,
   "metadata": {},
   "outputs": [],
   "source": [
    "Your code goes here "
   ]
  },
  {
   "cell_type": "markdown",
   "metadata": {},
   "source": [
    "\n",
    "There are as many *user_id*s as the number of rows. So, the _user_id*s are unique to each user, it probably won't have any impact on the target variable. But let's just verify this visually by using a box plot.\n"
   ]
  },
  {
   "cell_type": "markdown",
   "metadata": {},
   "source": [
    "##### Q6 -- Create a box plot of *purchase_value* by the target variable *class*"
   ]
  },
  {
   "cell_type": "code",
   "execution_count": null,
   "metadata": {},
   "outputs": [],
   "source": [
    "Your code goes here "
   ]
  },
  {
   "cell_type": "markdown",
   "metadata": {},
   "source": [
    "##### Q7 -- Create a box plot of *age* by the target variable *class*"
   ]
  },
  {
   "cell_type": "code",
   "execution_count": null,
   "metadata": {},
   "outputs": [],
   "source": [
    "Your code goes here "
   ]
  },
  {
   "cell_type": "markdown",
   "metadata": {},
   "source": [
    "##### Q8 -- Create a box plot of *timeBetween* by the target variable *class*"
   ]
  },
  {
   "cell_type": "code",
   "execution_count": null,
   "metadata": {},
   "outputs": [],
   "source": [
    "Your code goes here "
   ]
  },
  {
   "cell_type": "markdown",
   "metadata": {},
   "source": [
    "##### Q9 -- Create a summary of the continuous variables: *timeBetween, numerOfTimesDeviceUsed, age and purchase_value* by the target variable *class* to show the average value by each *class* value (Your table should have at least the columns mentioned, there will not be a point deduction for extra columns). Interpret the table: do any of these variables seem important?"
   ]
  },
  {
   "cell_type": "code",
   "execution_count": null,
   "metadata": {},
   "outputs": [],
   "source": [
    "Your code goes here "
   ]
  },
  {
   "cell_type": "markdown",
   "metadata": {},
   "source": [
    "### Categorical Variables\n",
    "\n",
    "When looking at categorical variables, we want to make sure that they are equally distributed in the data table to assess their impact on the target variable. If one categorical variable shows up considerable more (or less) than the others, we might have bias in the dataset that we'll have to deal with before going into building models.\n"
   ]
  },
  {
   "cell_type": "markdown",
   "metadata": {},
   "source": [
    "##### Q10 -- Create a bar plot that shows the different categories of *source* variable"
   ]
  },
  {
   "cell_type": "code",
   "execution_count": null,
   "metadata": {},
   "outputs": [],
   "source": [
    "Your code goes here "
   ]
  },
  {
   "cell_type": "markdown",
   "metadata": {},
   "source": [
    "##### Q11 -- Create a bar plot that shows the different categories of *browser* variable"
   ]
  },
  {
   "cell_type": "code",
   "execution_count": null,
   "metadata": {},
   "outputs": [],
   "source": [
    "Your code goes here "
   ]
  },
  {
   "cell_type": "markdown",
   "metadata": {},
   "source": [
    "##### Q12 -- Create a bar plot that shows the different categories of *sex* variable"
   ]
  },
  {
   "cell_type": "code",
   "execution_count": null,
   "metadata": {},
   "outputs": [],
   "source": [
    "Your code goes here "
   ]
  },
  {
   "cell_type": "code",
   "execution_count": null,
   "metadata": {},
   "outputs": [],
   "source": [
    "import seaborn as sns"
   ]
  },
  {
   "cell_type": "markdown",
   "metadata": {},
   "source": [
    "##### Q13 -- Create a bar plot that shows the different categories of *sex* variable colored by the value of *class* variable"
   ]
  },
  {
   "cell_type": "code",
   "execution_count": null,
   "metadata": {},
   "outputs": [],
   "source": [
    "Your code goes here "
   ]
  },
  {
   "cell_type": "markdown",
   "metadata": {
    "collapsed": true
   },
   "source": [
    "##### Q14 -- Create a bar plot that shows the different categories of *browser* variable colored by the value of *class* variable"
   ]
  },
  {
   "cell_type": "code",
   "execution_count": null,
   "metadata": {},
   "outputs": [],
   "source": [
    "Your code goes here "
   ]
  },
  {
   "cell_type": "markdown",
   "metadata": {},
   "source": [
    "## Target variable"
   ]
  },
  {
   "cell_type": "code",
   "execution_count": 21,
   "metadata": {},
   "outputs": [
    {
     "data": {
      "text/plain": [
       "0    108735\n",
       "1     11265\n",
       "Name: class, dtype: int64"
      ]
     },
     "execution_count": 21,
     "metadata": {},
     "output_type": "execute_result"
    },
    {
     "data": {
      "image/png": "[encoded data removed]",
      "text/plain": [
       "<matplotlib.figure.Figure at 0x23b466975c0>"
      ]
     },
     "metadata": {},
     "output_type": "display_data"
    }
   ],
   "source": [
    "transactions['class'].value_counts().plot.bar()\n",
    "transactions['class'].value_counts()"
   ]
  },
  {
   "cell_type": "markdown",
   "metadata": {},
   "source": [
    "###### There is a big imbalance between fraudulent (*class=1*) and normal(*class=0*) transactions, we need to keep this in mind when building models."
   ]
  },
  {
   "cell_type": "markdown",
   "metadata": {},
   "source": [
    "### Insight from data exploration:\n",
    "\n",
    "   - Time between signup and purchase and how many times the same device was used are important, we'll explore the relationship between target variable and the new features that we created *timeBetween* and *numberOfTimesDeviceUsed* in detail\n",
    "   - Looks like the categorical values are sampled similarly for both values of target variable, no concern for sampling bias "
   ]
  },
  {
   "cell_type": "markdown",
   "metadata": {},
   "source": [
    "#### Time between the signup and purchase"
   ]
  },
  {
   "cell_type": "code",
   "execution_count": 22,
   "metadata": {},
   "outputs": [
    {
     "name": "stdout",
     "output_type": "stream",
     "text": [
      "total number of fraudulent transactions :  11265\n",
      "total number of fraudulent transactions at zero seconds :  5936\n",
      "total number of NONfraudulent transactions at zero seconds :  0\n",
      "if the customer makes a purchase at ZERO seconds after signup, these transactions are FRAUDULENT  100.0 % of the time\n",
      "In the given dataset  52.69 % of fraudulent transactions happen at ZERO seconds from signup\n"
     ]
    }
   ],
   "source": [
    "\n",
    "# total number of fraudulent transactions\n",
    "totalFraudulent = len(transactions[transactions['class'] == 1])\n",
    "print('total number of fraudulent transactions : ', totalFraudulent)\n",
    "\n",
    "## find the cases where timeBetween is zero (just signed up to make a purchase)\n",
    "zeroSecondsTransactions = transactions[(transactions['timeBetween'] == 0)]\n",
    "fraudulentAtZeroSeconds = len(zeroSecondsTransactions[zeroSecondsTransactions['class']==1])\n",
    "nonFraudulentAtZeroSeconds = len(zeroSecondsTransactions[zeroSecondsTransactions['class']==0])\n",
    "\n",
    "print('total number of fraudulent transactions at zero seconds : ', fraudulentAtZeroSeconds)\n",
    "print('total number of NONfraudulent transactions at zero seconds : ', nonFraudulentAtZeroSeconds)\n",
    "print('if the customer makes a purchase at ZERO seconds after signup, these transactions are FRAUDULENT ', round(100*fraudulentAtZeroSeconds/len(zeroSecondsTransactions),2) ,'% of the time' )\n",
    "ratio = round(100*(fraudulentAtZeroSeconds/totalFraudulent),2)\n",
    "print('In the given dataset ', ratio,'% of fraudulent transactions happen at ZERO seconds from signup')\n"
   ]
  },
  {
   "cell_type": "markdown",
   "metadata": {},
   "source": [
    "#### Number of times the same device was used"
   ]
  },
  {
   "cell_type": "code",
   "execution_count": 23,
   "metadata": {},
   "outputs": [
    {
     "name": "stdout",
     "output_type": "stream",
     "text": [
      "13614  of the records show that the same device was used more than once\n"
     ]
    }
   ],
   "source": [
    "deviceUsedMoreThanOnce = transactions[(transactions['numberOfTimesDeviceUsed'] > 1)]\n",
    "print(len(deviceUsedMoreThanOnce), ' of the records show that the same device was used more than once')"
   ]
  },
  {
   "cell_type": "markdown",
   "metadata": {},
   "source": [
    "13614  of the transactions show that the same device was used more than once"
   ]
  },
  {
   "cell_type": "code",
   "execution_count": 24,
   "metadata": {},
   "outputs": [
    {
     "name": "stdout",
     "output_type": "stream",
     "text": [
      " Of these  13614  transactions,  7685 of them are fraudulent --- 56.45 % of the time\n"
     ]
    }
   ],
   "source": [
    "fraudulentMultipleUse = deviceUsedMoreThanOnce[deviceUsedMoreThanOnce['class'] == 1]\n",
    "print( ' Of these ', len(deviceUsedMoreThanOnce), ' transactions, ', len(fraudulentMultipleUse), 'of them are fraudulent ---', round(100*len(fraudulentMultipleUse)/len(deviceUsedMoreThanOnce),2), '% of the time')"
   ]
  },
  {
   "cell_type": "markdown",
   "metadata": {},
   "source": [
    "##### Q15 -- What is the percentage of the fraudulent transactions occur when a device was used multiple times? "
   ]
  },
  {
   "cell_type": "code",
   "execution_count": null,
   "metadata": {},
   "outputs": [],
   "source": [
    "Your code goes here "
   ]
  },
  {
   "cell_type": "markdown",
   "metadata": {},
   "source": [
    "There are 2 important predictors: time between signup and purchase and if the same device was used. So a critical user action to watch out for would be if a new userid is created on a previously used device to make a purchase right after sign up. \n",
    "    "
   ]
  },
  {
   "cell_type": "markdown",
   "metadata": {},
   "source": [
    "Let's check the sampling of the target *class*. We want to make sure that there is equal (--ish) representation of both classes to build a reliable model.\n"
   ]
  },
  {
   "cell_type": "markdown",
   "metadata": {
    "collapsed": true
   },
   "source": [
    "##### Q16 -- What percentage of all the transactions in our dataset were fraudulent transactions?"
   ]
  },
  {
   "cell_type": "code",
   "execution_count": null,
   "metadata": {},
   "outputs": [],
   "source": [
    "Your code goes here "
   ]
  },
  {
   "cell_type": "markdown",
   "metadata": {},
   "source": [
    "One last step before going into modeling is to check to see if there are any missing values."
   ]
  },
  {
   "cell_type": "markdown",
   "metadata": {},
   "source": [
    "##### Q17 - Build a heatmap that highlights if there are any missing values in this dataset and verify your results by using pandas info() function"
   ]
  },
  {
   "cell_type": "code",
   "execution_count": null,
   "metadata": {},
   "outputs": [],
   "source": [
    "Your code goes here "
   ]
  },
  {
   "cell_type": "markdown",
   "metadata": {},
   "source": [
    "#### Q18 (3 pts) --- Summarize your findings and indentify next steps on building a model to identify fraudulent transactions when they occure. DO NOT BUILD ANY MODELS. This questions is about presenting your findings in a way that it will make sense to the management to extend the contract to follow up and build models.\n"
   ]
  },
  {
   "cell_type": "code",
   "execution_count": null,
   "metadata": {},
   "outputs": [],
   "source": [
    "Your code goes here "
   ]
  }
 ],
 "metadata": {
  "kernelspec": {
   "display_name": "Python 3",
   "language": "python",
   "name": "python3"
  },
  "language_info": {
   "codemirror_mode": {
    "name": "ipython",
    "version": 3
   },
   "file_extension": ".py",
   "mimetype": "text/x-python",
   "name": "python",
   "nbconvert_exporter": "python",
   "pygments_lexer": "ipython3",
   "version": "3.6.3"
  }
 },
 "nbformat": 4,
 "nbformat_minor": 2
}
