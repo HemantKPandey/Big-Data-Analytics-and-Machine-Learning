{
 "cells": [
  {
     "name": "Objective",
     "output_type": "stream",
     "text": [
      "This work is done for performing basic mathematics, visulaization, Statistically Important Graphical Presentation of Big Data using Python in Jupyter notebook tool.\n"
     ]
   }
  {
   "cell_type": "code",
   "execution_count": 2,
   "metadata": {},
   "outputs": [],
   "source": [
    "import os\n",
    "import numpy as np\n",
    "import pandas as pd\n",
    "import seaborn as sns\n",
    "import matplotlib.pyplot as plt"
   ]
  },
  {
   "cell_type": "code",
   "execution_count": 5,
   "metadata": {},
   "outputs": [
    {
     "name": "stdout",
     "output_type": "stream",
     "text": [
      "C:\\Learn and Grow\\Big Data Learning\\R Work\\Iris.csv\n"
     ]
    }
   ],
   "source": [
    "# path for iris data on  my pc\n",
    "path = 'C:\\\\Learn and Grow\\\\Big Data Learning\\\\R Work\\\\'\n",
    "file_name = \"Iris.csv\"\n",
    "file_path_name = path + file_name\n",
    "print(file_path_name)"
   ]
  },
  {
   "cell_type": "code",
   "execution_count": 8,
   "metadata": {},
   "outputs": [],
   "source": [
    "# reading the file\n",
    "iris = pd.read_csv(file_path_name)"
   ]
  },
  {
   "cell_type": "code",
   "execution_count": 9,
   "metadata": {},
   "outputs": [
    {
     "data": {
      "text/plain": [
       "pandas.core.frame.DataFrame"
      ]
     },
     "execution_count": 9,
     "metadata": {},
     "output_type": "execute_result"
    }
   ],
   "source": [
    "type(iris)"
   ]
  },
  {
   "cell_type": "code",
   "execution_count": 10,
   "metadata": {},
   "outputs": [
    {
     "data": {
      "text/html": [
       "<div>\n",
       "<style scoped>\n",
       "    .dataframe tbody tr th:only-of-type {\n",
       "        vertical-align: middle;\n",
       "    }\n",
       "\n",
       "    .dataframe tbody tr th {\n",
       "        vertical-align: top;\n",
       "    }\n",
       "\n",
       "    .dataframe thead th {\n",
       "        text-align: right;\n",
       "    }\n",
       "</style>\n",
       "<table border=\"1\" class=\"dataframe\">\n",
       "  <thead>\n",
       "    <tr style=\"text-align: right;\">\n",
       "      <th></th>\n",
       "      <th>Id</th>\n",
       "      <th>SepalLengthCm</th>\n",
       "      <th>SepalWidthCm</th>\n",
       "      <th>PetalLengthCm</th>\n",
       "      <th>PetalWidthCm</th>\n",
       "      <th>Species</th>\n",
       "    </tr>\n",
       "  </thead>\n",
       "  <tbody>\n",
       "    <tr>\n",
       "      <th>0</th>\n",
       "      <td>1</td>\n",
       "      <td>5.1</td>\n",
       "      <td>3.5</td>\n",
       "      <td>1.4</td>\n",
       "      <td>0.2</td>\n",
       "      <td>Iris-setosa</td>\n",
       "    </tr>\n",
       "    <tr>\n",
       "      <th>1</th>\n",
       "      <td>2</td>\n",
       "      <td>4.9</td>\n",
       "      <td>3.0</td>\n",
       "      <td>1.4</td>\n",
       "      <td>0.2</td>\n",
       "      <td>Iris-setosa</td>\n",
       "    </tr>\n",
       "    <tr>\n",
       "      <th>2</th>\n",
       "      <td>3</td>\n",
       "      <td>4.7</td>\n",
       "      <td>3.2</td>\n",
       "      <td>1.3</td>\n",
       "      <td>0.2</td>\n",
       "      <td>Iris-setosa</td>\n",
       "    </tr>\n",
       "    <tr>\n",
       "      <th>3</th>\n",
       "      <td>4</td>\n",
       "      <td>4.6</td>\n",
       "      <td>3.1</td>\n",
       "      <td>1.5</td>\n",
       "      <td>0.2</td>\n",
       "      <td>Iris-setosa</td>\n",
       "    </tr>\n",
       "    <tr>\n",
       "      <th>4</th>\n",
       "      <td>5</td>\n",
       "      <td>5.0</td>\n",
       "      <td>3.6</td>\n",
       "      <td>1.4</td>\n",
       "      <td>0.2</td>\n",
       "      <td>Iris-setosa</td>\n",
       "    </tr>\n",
       "  </tbody>\n",
       "</table>\n",
       "</div>"
      ],
      "text/plain": [
       "   Id  SepalLengthCm  SepalWidthCm  PetalLengthCm  PetalWidthCm      Species\n",
       "0   1            5.1           3.5            1.4           0.2  Iris-setosa\n",
       "1   2            4.9           3.0            1.4           0.2  Iris-setosa\n",
       "2   3            4.7           3.2            1.3           0.2  Iris-setosa\n",
       "3   4            4.6           3.1            1.5           0.2  Iris-setosa\n",
       "4   5            5.0           3.6            1.4           0.2  Iris-setosa"
      ]
     },
     "execution_count": 10,
     "metadata": {},
     "output_type": "execute_result"
    }
   ],
   "source": [
    "iris.head()"
   ]
  },
  {
   "cell_type": "code",
   "execution_count": 11,
   "metadata": {},
   "outputs": [
    {
     "data": {
      "text/html": [
       "<div>\n",
       "<style scoped>\n",
       "    .dataframe tbody tr th:only-of-type {\n",
       "        vertical-align: middle;\n",
       "    }\n",
       "\n",
       "    .dataframe tbody tr th {\n",
       "        vertical-align: top;\n",
       "    }\n",
       "\n",
       "    .dataframe thead th {\n",
       "        text-align: right;\n",
       "    }\n",
       "</style>\n",
       "<table border=\"1\" class=\"dataframe\">\n",
       "  <thead>\n",
       "    <tr style=\"text-align: right;\">\n",
       "      <th></th>\n",
       "      <th>Id</th>\n",
       "      <th>SepalLengthCm</th>\n",
       "      <th>SepalWidthCm</th>\n",
       "      <th>PetalLengthCm</th>\n",
       "      <th>PetalWidthCm</th>\n",
       "      <th>Species</th>\n",
       "    </tr>\n",
       "  </thead>\n",
       "  <tbody>\n",
       "    <tr>\n",
       "      <th>145</th>\n",
       "      <td>146</td>\n",
       "      <td>6.7</td>\n",
       "      <td>3.0</td>\n",
       "      <td>5.2</td>\n",
       "      <td>2.3</td>\n",
       "      <td>Iris-virginica</td>\n",
       "    </tr>\n",
       "    <tr>\n",
       "      <th>146</th>\n",
       "      <td>147</td>\n",
       "      <td>6.3</td>\n",
       "      <td>2.5</td>\n",
       "      <td>5.0</td>\n",
       "      <td>1.9</td>\n",
       "      <td>Iris-virginica</td>\n",
       "    </tr>\n",
       "    <tr>\n",
       "      <th>147</th>\n",
       "      <td>148</td>\n",
       "      <td>6.5</td>\n",
       "      <td>3.0</td>\n",
       "      <td>5.2</td>\n",
       "      <td>2.0</td>\n",
       "      <td>Iris-virginica</td>\n",
       "    </tr>\n",
       "    <tr>\n",
       "      <th>148</th>\n",
       "      <td>149</td>\n",
       "      <td>6.2</td>\n",
       "      <td>3.4</td>\n",
       "      <td>5.4</td>\n",
       "      <td>2.3</td>\n",
       "      <td>Iris-virginica</td>\n",
       "    </tr>\n",
       "    <tr>\n",
       "      <th>149</th>\n",
       "      <td>150</td>\n",
       "      <td>5.9</td>\n",
       "      <td>3.0</td>\n",
       "      <td>5.1</td>\n",
       "      <td>1.8</td>\n",
       "      <td>Iris-virginica</td>\n",
       "    </tr>\n",
       "  </tbody>\n",
       "</table>\n",
       "</div>"
      ],
      "text/plain": [
       "      Id  SepalLengthCm  SepalWidthCm  PetalLengthCm  PetalWidthCm  \\\n",
       "145  146            6.7           3.0            5.2           2.3   \n",
       "146  147            6.3           2.5            5.0           1.9   \n",
       "147  148            6.5           3.0            5.2           2.0   \n",
       "148  149            6.2           3.4            5.4           2.3   \n",
       "149  150            5.9           3.0            5.1           1.8   \n",
       "\n",
       "            Species  \n",
       "145  Iris-virginica  \n",
       "146  Iris-virginica  \n",
       "147  Iris-virginica  \n",
       "148  Iris-virginica  \n",
       "149  Iris-virginica  "
      ]
     },
     "execution_count": 11,
     "metadata": {},
     "output_type": "execute_result"
    }
   ],
   "source": [
    "iris.tail()"
   ]
  },
  {
   "cell_type": "code",
   "execution_count": 14,
   "metadata": {},
   "outputs": [
    {
     "name": "stdout",
     "output_type": "stream",
     "text": [
      "<class 'pandas.core.frame.DataFrame'>\n",
      "RangeIndex: 150 entries, 0 to 149\n",
      "Data columns (total 6 columns):\n",
      "Id               150 non-null int64\n",
      "SepalLengthCm    150 non-null float64\n",
      "SepalWidthCm     150 non-null float64\n",
      "PetalLengthCm    150 non-null float64\n",
      "PetalWidthCm     150 non-null float64\n",
      "Species          150 non-null object\n",
      "dtypes: float64(4), int64(1), object(1)\n",
      "memory usage: 7.1+ KB\n"
     ]
    }
   ],
   "source": [
    "iris.info()"
   ]
  },
  {
   "cell_type": "code",
   "execution_count": 15,
   "metadata": {},
   "outputs": [],
   "source": [
    "#NOw i am doing Data Analysis"
   ]
  },
  {
   "cell_type": "code",
   "execution_count": 16,
   "metadata": {},
   "outputs": [],
   "source": [
    "iris.drop('Id', axis = 1, inplace = True)"
   ]
  },
  {
   "cell_type": "code",
   "execution_count": 17,
   "metadata": {},
   "outputs": [
    {
     "data": {
      "image/png": "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\n",
      "text/plain": [
       "<Figure size 432x288 with 1 Axes>"
      ]
     },
     "metadata": {
      "needs_background": "light"
     },
     "output_type": "display_data"
    }
   ],
   "source": [
    "fig = iris.plot(kind = 'scatter', x = 'SepalLengthCm', y = 'SepalWidthCm', Color = 'Red')"
   ]
  },
  {
   "cell_type": "code",
   "execution_count": 20,
   "metadata": {},
   "outputs": [
    {
     "ename": "ValueError",
     "evalue": "scatter requires x column to be numeric",
     "output_type": "error",
     "traceback": [
      "\u001b[1;31m---------------------------------------------------------------------------\u001b[0m",
      "\u001b[1;31mValueError\u001b[0m                                Traceback (most recent call last)",
      "\u001b[1;32m<ipython-input-20-aeb880e753fb>\u001b[0m in \u001b[0;36m<module>\u001b[1;34m\u001b[0m\n\u001b[0;32m      1\u001b[0m \u001b[0mfig\u001b[0m \u001b[1;33m=\u001b[0m \u001b[0miris\u001b[0m\u001b[1;33m[\u001b[0m\u001b[0miris\u001b[0m\u001b[1;33m.\u001b[0m\u001b[0mSpecies\u001b[0m \u001b[1;33m==\u001b[0m \u001b[1;34m'Iris-setosa'\u001b[0m\u001b[1;33m]\u001b[0m\u001b[1;33m.\u001b[0m\u001b[0mplot\u001b[0m\u001b[1;33m(\u001b[0m\u001b[0mkind\u001b[0m \u001b[1;33m=\u001b[0m \u001b[1;34m'scatter'\u001b[0m\u001b[1;33m,\u001b[0m \u001b[0mx\u001b[0m \u001b[1;33m=\u001b[0m \u001b[1;34m'SepalLengthCm'\u001b[0m\u001b[1;33m,\u001b[0m \u001b[0my\u001b[0m \u001b[1;33m=\u001b[0m \u001b[1;34m'SepalWidthCm'\u001b[0m\u001b[1;33m,\u001b[0m \u001b[0mColor\u001b[0m \u001b[1;33m=\u001b[0m \u001b[1;34m'Red'\u001b[0m\u001b[1;33m,\u001b[0m \u001b[0mlabel\u001b[0m \u001b[1;33m=\u001b[0m \u001b[1;34m'Setosa'\u001b[0m\u001b[1;33m)\u001b[0m\u001b[1;33m\u001b[0m\u001b[1;33m\u001b[0m\u001b[0m\n\u001b[0;32m      2\u001b[0m \u001b[0miris\u001b[0m\u001b[1;33m[\u001b[0m\u001b[0miris\u001b[0m\u001b[1;33m.\u001b[0m\u001b[0mSpecies\u001b[0m \u001b[1;33m==\u001b[0m \u001b[1;34m'Iris-versicolor'\u001b[0m\u001b[1;33m]\u001b[0m\u001b[1;33m.\u001b[0m\u001b[0mplot\u001b[0m\u001b[1;33m(\u001b[0m\u001b[0mkind\u001b[0m \u001b[1;33m=\u001b[0m \u001b[1;34m'scatter'\u001b[0m\u001b[1;33m,\u001b[0m \u001b[0mx\u001b[0m \u001b[1;33m=\u001b[0m \u001b[1;34m'SepalLengthCm'\u001b[0m\u001b[1;33m,\u001b[0m \u001b[0my\u001b[0m \u001b[1;33m=\u001b[0m \u001b[1;34m'SepalWidthCm'\u001b[0m\u001b[1;33m,\u001b[0m \u001b[0mColor\u001b[0m \u001b[1;33m=\u001b[0m \u001b[1;34m'Blue'\u001b[0m\u001b[1;33m,\u001b[0m \u001b[0mlabel\u001b[0m \u001b[1;33m=\u001b[0m \u001b[1;34m'Versicolor'\u001b[0m\u001b[1;33m,\u001b[0m\u001b[0max\u001b[0m \u001b[1;33m=\u001b[0m \u001b[0mfig\u001b[0m\u001b[1;33m)\u001b[0m\u001b[1;33m\u001b[0m\u001b[1;33m\u001b[0m\u001b[0m\n\u001b[1;32m----> 3\u001b[1;33m \u001b[0miris\u001b[0m\u001b[1;33m[\u001b[0m\u001b[0miris\u001b[0m\u001b[1;33m.\u001b[0m\u001b[0mSpecies\u001b[0m \u001b[1;33m==\u001b[0m \u001b[1;34m'Iris-verginica'\u001b[0m\u001b[1;33m]\u001b[0m\u001b[1;33m.\u001b[0m\u001b[0mplot\u001b[0m\u001b[1;33m(\u001b[0m\u001b[0mkind\u001b[0m \u001b[1;33m=\u001b[0m \u001b[1;34m'scatter'\u001b[0m\u001b[1;33m,\u001b[0m \u001b[0mx\u001b[0m \u001b[1;33m=\u001b[0m \u001b[1;34m'SepalLengthCm'\u001b[0m\u001b[1;33m,\u001b[0m \u001b[0my\u001b[0m \u001b[1;33m=\u001b[0m \u001b[1;34m'SepalWidthCm'\u001b[0m\u001b[1;33m,\u001b[0m \u001b[0mColor\u001b[0m \u001b[1;33m=\u001b[0m \u001b[1;34m'Green'\u001b[0m\u001b[1;33m,\u001b[0m \u001b[0mlabel\u001b[0m \u001b[1;33m=\u001b[0m \u001b[1;34m'Verginica'\u001b[0m\u001b[1;33m,\u001b[0m\u001b[0max\u001b[0m \u001b[1;33m=\u001b[0m \u001b[0mfig\u001b[0m\u001b[1;33m)\u001b[0m\u001b[1;33m\u001b[0m\u001b[1;33m\u001b[0m\u001b[0m\n\u001b[0m",
      "\u001b[1;32m~\\Anaconda3\\lib\\site-packages\\pandas\\plotting\\_core.py\u001b[0m in \u001b[0;36m__call__\u001b[1;34m(self, x, y, kind, ax, subplots, sharex, sharey, layout, figsize, use_index, title, grid, legend, style, logx, logy, loglog, xticks, yticks, xlim, ylim, rot, fontsize, colormap, table, yerr, xerr, secondary_y, sort_columns, **kwds)\u001b[0m\n\u001b[0;32m   2939\u001b[0m                           \u001b[0mfontsize\u001b[0m\u001b[1;33m=\u001b[0m\u001b[0mfontsize\u001b[0m\u001b[1;33m,\u001b[0m \u001b[0mcolormap\u001b[0m\u001b[1;33m=\u001b[0m\u001b[0mcolormap\u001b[0m\u001b[1;33m,\u001b[0m \u001b[0mtable\u001b[0m\u001b[1;33m=\u001b[0m\u001b[0mtable\u001b[0m\u001b[1;33m,\u001b[0m\u001b[1;33m\u001b[0m\u001b[1;33m\u001b[0m\u001b[0m\n\u001b[0;32m   2940\u001b[0m                           \u001b[0myerr\u001b[0m\u001b[1;33m=\u001b[0m\u001b[0myerr\u001b[0m\u001b[1;33m,\u001b[0m \u001b[0mxerr\u001b[0m\u001b[1;33m=\u001b[0m\u001b[0mxerr\u001b[0m\u001b[1;33m,\u001b[0m \u001b[0msecondary_y\u001b[0m\u001b[1;33m=\u001b[0m\u001b[0msecondary_y\u001b[0m\u001b[1;33m,\u001b[0m\u001b[1;33m\u001b[0m\u001b[1;33m\u001b[0m\u001b[0m\n\u001b[1;32m-> 2941\u001b[1;33m                           sort_columns=sort_columns, **kwds)\n\u001b[0m\u001b[0;32m   2942\u001b[0m     \u001b[0m__call__\u001b[0m\u001b[1;33m.\u001b[0m\u001b[0m__doc__\u001b[0m \u001b[1;33m=\u001b[0m \u001b[0mplot_frame\u001b[0m\u001b[1;33m.\u001b[0m\u001b[0m__doc__\u001b[0m\u001b[1;33m\u001b[0m\u001b[1;33m\u001b[0m\u001b[0m\n\u001b[0;32m   2943\u001b[0m \u001b[1;33m\u001b[0m\u001b[0m\n",
      "\u001b[1;32m~\\Anaconda3\\lib\\site-packages\\pandas\\plotting\\_core.py\u001b[0m in \u001b[0;36mplot_frame\u001b[1;34m(data, x, y, kind, ax, subplots, sharex, sharey, layout, figsize, use_index, title, grid, legend, style, logx, logy, loglog, xticks, yticks, xlim, ylim, rot, fontsize, colormap, table, yerr, xerr, secondary_y, sort_columns, **kwds)\u001b[0m\n\u001b[0;32m   1975\u001b[0m                  \u001b[0myerr\u001b[0m\u001b[1;33m=\u001b[0m\u001b[0myerr\u001b[0m\u001b[1;33m,\u001b[0m \u001b[0mxerr\u001b[0m\u001b[1;33m=\u001b[0m\u001b[0mxerr\u001b[0m\u001b[1;33m,\u001b[0m\u001b[1;33m\u001b[0m\u001b[1;33m\u001b[0m\u001b[0m\n\u001b[0;32m   1976\u001b[0m                  \u001b[0msecondary_y\u001b[0m\u001b[1;33m=\u001b[0m\u001b[0msecondary_y\u001b[0m\u001b[1;33m,\u001b[0m \u001b[0msort_columns\u001b[0m\u001b[1;33m=\u001b[0m\u001b[0msort_columns\u001b[0m\u001b[1;33m,\u001b[0m\u001b[1;33m\u001b[0m\u001b[1;33m\u001b[0m\u001b[0m\n\u001b[1;32m-> 1977\u001b[1;33m                  **kwds)\n\u001b[0m\u001b[0;32m   1978\u001b[0m \u001b[1;33m\u001b[0m\u001b[0m\n\u001b[0;32m   1979\u001b[0m \u001b[1;33m\u001b[0m\u001b[0m\n",
      "\u001b[1;32m~\\Anaconda3\\lib\\site-packages\\pandas\\plotting\\_core.py\u001b[0m in \u001b[0;36m_plot\u001b[1;34m(data, x, y, subplots, ax, kind, **kwds)\u001b[0m\n\u001b[0;32m   1741\u001b[0m         \u001b[1;32mif\u001b[0m \u001b[0misinstance\u001b[0m\u001b[1;33m(\u001b[0m\u001b[0mdata\u001b[0m\u001b[1;33m,\u001b[0m \u001b[0mABCDataFrame\u001b[0m\u001b[1;33m)\u001b[0m\u001b[1;33m:\u001b[0m\u001b[1;33m\u001b[0m\u001b[1;33m\u001b[0m\u001b[0m\n\u001b[0;32m   1742\u001b[0m             plot_obj = klass(data, x=x, y=y, subplots=subplots, ax=ax,\n\u001b[1;32m-> 1743\u001b[1;33m                              kind=kind, **kwds)\n\u001b[0m\u001b[0;32m   1744\u001b[0m         \u001b[1;32melse\u001b[0m\u001b[1;33m:\u001b[0m\u001b[1;33m\u001b[0m\u001b[1;33m\u001b[0m\u001b[0m\n\u001b[0;32m   1745\u001b[0m             raise ValueError(\"plot kind %r can only be used for data frames\"\n",
      "\u001b[1;32m~\\Anaconda3\\lib\\site-packages\\pandas\\plotting\\_core.py\u001b[0m in \u001b[0;36m__init__\u001b[1;34m(self, data, x, y, s, c, **kwargs)\u001b[0m\n\u001b[0;32m    843\u001b[0m             \u001b[1;31m# the handling of this argument later\u001b[0m\u001b[1;33m\u001b[0m\u001b[1;33m\u001b[0m\u001b[1;33m\u001b[0m\u001b[0m\n\u001b[0;32m    844\u001b[0m             \u001b[0ms\u001b[0m \u001b[1;33m=\u001b[0m \u001b[1;36m20\u001b[0m\u001b[1;33m\u001b[0m\u001b[1;33m\u001b[0m\u001b[0m\n\u001b[1;32m--> 845\u001b[1;33m         \u001b[0msuper\u001b[0m\u001b[1;33m(\u001b[0m\u001b[0mScatterPlot\u001b[0m\u001b[1;33m,\u001b[0m \u001b[0mself\u001b[0m\u001b[1;33m)\u001b[0m\u001b[1;33m.\u001b[0m\u001b[0m__init__\u001b[0m\u001b[1;33m(\u001b[0m\u001b[0mdata\u001b[0m\u001b[1;33m,\u001b[0m \u001b[0mx\u001b[0m\u001b[1;33m,\u001b[0m \u001b[0my\u001b[0m\u001b[1;33m,\u001b[0m \u001b[0ms\u001b[0m\u001b[1;33m=\u001b[0m\u001b[0ms\u001b[0m\u001b[1;33m,\u001b[0m \u001b[1;33m**\u001b[0m\u001b[0mkwargs\u001b[0m\u001b[1;33m)\u001b[0m\u001b[1;33m\u001b[0m\u001b[1;33m\u001b[0m\u001b[0m\n\u001b[0m\u001b[0;32m    846\u001b[0m         \u001b[1;32mif\u001b[0m \u001b[0mis_integer\u001b[0m\u001b[1;33m(\u001b[0m\u001b[0mc\u001b[0m\u001b[1;33m)\u001b[0m \u001b[1;32mand\u001b[0m \u001b[1;32mnot\u001b[0m \u001b[0mself\u001b[0m\u001b[1;33m.\u001b[0m\u001b[0mdata\u001b[0m\u001b[1;33m.\u001b[0m\u001b[0mcolumns\u001b[0m\u001b[1;33m.\u001b[0m\u001b[0mholds_integer\u001b[0m\u001b[1;33m(\u001b[0m\u001b[1;33m)\u001b[0m\u001b[1;33m:\u001b[0m\u001b[1;33m\u001b[0m\u001b[1;33m\u001b[0m\u001b[0m\n\u001b[0;32m    847\u001b[0m             \u001b[0mc\u001b[0m \u001b[1;33m=\u001b[0m \u001b[0mself\u001b[0m\u001b[1;33m.\u001b[0m\u001b[0mdata\u001b[0m\u001b[1;33m.\u001b[0m\u001b[0mcolumns\u001b[0m\u001b[1;33m[\u001b[0m\u001b[0mc\u001b[0m\u001b[1;33m]\u001b[0m\u001b[1;33m\u001b[0m\u001b[1;33m\u001b[0m\u001b[0m\n",
      "\u001b[1;32m~\\Anaconda3\\lib\\site-packages\\pandas\\plotting\\_core.py\u001b[0m in \u001b[0;36m__init__\u001b[1;34m(self, data, x, y, **kwargs)\u001b[0m\n\u001b[0;32m    818\u001b[0m             \u001b[0my\u001b[0m \u001b[1;33m=\u001b[0m \u001b[0mself\u001b[0m\u001b[1;33m.\u001b[0m\u001b[0mdata\u001b[0m\u001b[1;33m.\u001b[0m\u001b[0mcolumns\u001b[0m\u001b[1;33m[\u001b[0m\u001b[0my\u001b[0m\u001b[1;33m]\u001b[0m\u001b[1;33m\u001b[0m\u001b[1;33m\u001b[0m\u001b[0m\n\u001b[0;32m    819\u001b[0m         \u001b[1;32mif\u001b[0m \u001b[0mlen\u001b[0m\u001b[1;33m(\u001b[0m\u001b[0mself\u001b[0m\u001b[1;33m.\u001b[0m\u001b[0mdata\u001b[0m\u001b[1;33m[\u001b[0m\u001b[0mx\u001b[0m\u001b[1;33m]\u001b[0m\u001b[1;33m.\u001b[0m\u001b[0m_get_numeric_data\u001b[0m\u001b[1;33m(\u001b[0m\u001b[1;33m)\u001b[0m\u001b[1;33m)\u001b[0m \u001b[1;33m==\u001b[0m \u001b[1;36m0\u001b[0m\u001b[1;33m:\u001b[0m\u001b[1;33m\u001b[0m\u001b[1;33m\u001b[0m\u001b[0m\n\u001b[1;32m--> 820\u001b[1;33m             \u001b[1;32mraise\u001b[0m \u001b[0mValueError\u001b[0m\u001b[1;33m(\u001b[0m\u001b[0mself\u001b[0m\u001b[1;33m.\u001b[0m\u001b[0m_kind\u001b[0m \u001b[1;33m+\u001b[0m \u001b[1;34m' requires x column to be numeric'\u001b[0m\u001b[1;33m)\u001b[0m\u001b[1;33m\u001b[0m\u001b[1;33m\u001b[0m\u001b[0m\n\u001b[0m\u001b[0;32m    821\u001b[0m         \u001b[1;32mif\u001b[0m \u001b[0mlen\u001b[0m\u001b[1;33m(\u001b[0m\u001b[0mself\u001b[0m\u001b[1;33m.\u001b[0m\u001b[0mdata\u001b[0m\u001b[1;33m[\u001b[0m\u001b[0my\u001b[0m\u001b[1;33m]\u001b[0m\u001b[1;33m.\u001b[0m\u001b[0m_get_numeric_data\u001b[0m\u001b[1;33m(\u001b[0m\u001b[1;33m)\u001b[0m\u001b[1;33m)\u001b[0m \u001b[1;33m==\u001b[0m \u001b[1;36m0\u001b[0m\u001b[1;33m:\u001b[0m\u001b[1;33m\u001b[0m\u001b[1;33m\u001b[0m\u001b[0m\n\u001b[0;32m    822\u001b[0m             \u001b[1;32mraise\u001b[0m \u001b[0mValueError\u001b[0m\u001b[1;33m(\u001b[0m\u001b[0mself\u001b[0m\u001b[1;33m.\u001b[0m\u001b[0m_kind\u001b[0m \u001b[1;33m+\u001b[0m \u001b[1;34m' requires y column to be numeric'\u001b[0m\u001b[1;33m)\u001b[0m\u001b[1;33m\u001b[0m\u001b[1;33m\u001b[0m\u001b[0m\n",
      "\u001b[1;31mValueError\u001b[0m: scatter requires x column to be numeric"
     ]
    },
    {
     "data": {
      "image/png": "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\n",
      "text/plain": [
       "<Figure size 432x288 with 1 Axes>"
      ]
     },
     "metadata": {
      "needs_background": "light"
     },
     "output_type": "display_data"
    }
   ],
   "source": [
    "fig = iris[iris.Species == 'Iris-setosa'].plot(kind = 'scatter', x = 'SepalLengthCm', y = 'SepalWidthCm', Color = 'Red', label = 'Setosa')\n",
    "iris[iris.Species == 'Iris-versicolor'].plot(kind = 'scatter', x = 'SepalLengthCm', y = 'SepalWidthCm', Color = 'Blue', label = 'Versicolor',ax = fig)\n",
    "iris[iris.Species == 'Iris-verginica'].plot(kind = 'scatter', x = 'SepalLengthCm', y = 'SepalWidthCm', Color = 'Green', label = 'Verginica',ax = fig)"
   ]
  },
  {
   "cell_type": "code",
   "execution_count": 22,
   "metadata": {},
   "outputs": [
    {
     "data": {
      "text/plain": [
       "<matplotlib.axes._subplots.AxesSubplot at 0x1ca3094e240>"
      ]
     },
     "execution_count": 22,
     "metadata": {},
     "output_type": "execute_result"
    },
    {
     "data": {
      "image/png": "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\n",
      "text/plain": [
       "<Figure size 432x288 with 1 Axes>"
      ]
     },
     "metadata": {
      "needs_background": "light"
     },
     "output_type": "display_data"
    }
   ],
   "source": [
    "fig = iris[iris.Species == 'Iris-setosa'].plot(kind = 'scatter', x = 'SepalLengthCm', y = 'SepalWidthCm', Color = 'Red', label = 'Setosa')\n",
    "iris[iris.Species == 'Iris-versicolor'].plot(kind = 'scatter', x = 'SepalLengthCm', y = 'SepalWidthCm', Color = 'Blue', label = 'Versicolor',ax = fig)\n",
    "#iris[iris.Species == 'Iris-verginica'].plot(kind = 'scatter', x = 'SepalLengthCm', y = 'SepalWidthCm', Color = 'Green', label = 'Verginica',ax = fig)"
   ]
  },
  {
   "cell_type": "code",
   "execution_count": null,
   "metadata": {},
   "outputs": [],
   "source": []
  }
 ],
 "metadata": {
  "kernelspec": {
   "display_name": "Python 3",
   "language": "python",
   "name": "python3"
  },
  "language_info": {
   "codemirror_mode": {
    "name": "ipython",
    "version": 3
   },
   "file_extension": ".py",
   "mimetype": "text/x-python",
   "name": "python",
   "nbconvert_exporter": "python",
   "pygments_lexer": "ipython3",
   "version": "3.7.1"
  }
 },
 "nbformat": 4,
 "nbformat_minor": 2
}
